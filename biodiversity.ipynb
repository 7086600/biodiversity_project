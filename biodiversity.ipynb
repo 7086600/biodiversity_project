{
 "cells": [
  {
   "cell_type": "markdown",
   "metadata": {},
   "source": [
    "# Biodiversity in National Parks"
   ]
  },
  {
   "cell_type": "markdown",
   "metadata": {},
   "source": [
    "### Author: Alexander K."
   ]
  },
  {
   "cell_type": "markdown",
   "metadata": {},
   "source": [
    "## Overview\n",
    "This project interprets data from the National Parks Service about biodiversity and endangered species in different parks.\n"
   ]
  },
  {
   "cell_type": "markdown",
   "metadata": {},
   "source": [
    "## Project Goals\n",
    "The goals of this project are to perform a data analysis of the conservation statuses of endangered species, investigate patterns related to the types of species that become endangered, and visualize the data to identify trends and distributions of endangered species across different national parks\n",
    "\n",
    "Some questions that are posed:\n",
    "\n",
    "- What is the distribution of conservation status for species?\n",
    "- Are certain types of species more likely to be endangered?\n",
    "- Are the differences between species and their conservation status significant?\n",
    "- Which animal is most prevalent and what is their distribution amongst parks?\n"
   ]
  },
  {
   "cell_type": "markdown",
   "metadata": {},
   "source": [
    "## Actions\n",
    "\n",
    "- analyze data;\n",
    "- clean up the datasets;\n",
    "- visualize the data using graphs and charts;\n",
    "- seek to answer the questions;\n",
    "- making conclusions based on the analysis."
   ]
  },
  {
   "cell_type": "markdown",
   "metadata": {},
   "source": [
    "## Data\n",
    "\n",
    "There are two datasets:\n",
    "1. Species data - contains information about different species, including their conservation status.\n",
    "2. Observations data - contains records of species observed in various national parks, including the date and location of the observation."
   ]
  },
  {
   "cell_type": "markdown",
   "metadata": {},
   "source": [
    "## Analysis\n",
    "\n",
    "In this section, we will employ descriptive statistics and data visualization methods to gain a deeper understanding of the data. Statistical analysis will also be conducted to determine if the observed species are statistically significant. Some of the key metrics that will be calculated include:\n",
    "1. Frequency distributions\n",
    "1. Counts\n",
    "1. Relationships between species\n",
    "1. Conservation status of species\n",
    "1. Observations of species in parks.\n"
   ]
  },
  {
   "cell_type": "code",
   "execution_count": 1,
   "metadata": {},
   "outputs": [],
   "source": [
    "# importing necessary libraries\n",
    "import pandas as pd\n",
    "import numpy as np\n",
    "import matplotlib.pyplot as plt\n",
    "import seaborn as sns"
   ]
  },
  {
   "cell_type": "code",
   "execution_count": 2,
   "metadata": {},
   "outputs": [],
   "source": [
    "# setting options\n",
    "pd.set_option('display.max_columns', None)\n",
    "pd.set_option(\"display.float_format\", \"{:.2f}\".format)\n",
    "pd.set_option('max_colwidth', 0)"
   ]
  },
  {
   "cell_type": "code",
   "execution_count": 3,
   "metadata": {},
   "outputs": [],
   "source": [
    "# load the datasets\n",
    "\n",
    "species = pd.read_csv('species_info.csv')\n",
    "observations = pd.read_csv('observations.csv')"
   ]
  },
  {
   "cell_type": "markdown",
   "metadata": {},
   "source": [
    "## Exploratory Data Analysis (EDA)"
   ]
  },
  {
   "cell_type": "markdown",
   "metadata": {},
   "source": [
    "### Species and Conservation Status"
   ]
  },
  {
   "cell_type": "code",
   "execution_count": 4,
   "metadata": {},
   "outputs": [
    {
     "data": {
      "text/html": [
       "<div>\n",
       "<style scoped>\n",
       "    .dataframe tbody tr th:only-of-type {\n",
       "        vertical-align: middle;\n",
       "    }\n",
       "\n",
       "    .dataframe tbody tr th {\n",
       "        vertical-align: top;\n",
       "    }\n",
       "\n",
       "    .dataframe thead th {\n",
       "        text-align: right;\n",
       "    }\n",
       "</style>\n",
       "<table border=\"1\" class=\"dataframe\">\n",
       "  <thead>\n",
       "    <tr style=\"text-align: right;\">\n",
       "      <th></th>\n",
       "      <th>category</th>\n",
       "      <th>scientific_name</th>\n",
       "      <th>common_names</th>\n",
       "      <th>conservation_status</th>\n",
       "    </tr>\n",
       "  </thead>\n",
       "  <tbody>\n",
       "    <tr>\n",
       "      <th>0</th>\n",
       "      <td>Mammal</td>\n",
       "      <td>Clethrionomys gapperi gapperi</td>\n",
       "      <td>Gapper's Red-Backed Vole</td>\n",
       "      <td>NaN</td>\n",
       "    </tr>\n",
       "    <tr>\n",
       "      <th>1</th>\n",
       "      <td>Mammal</td>\n",
       "      <td>Bos bison</td>\n",
       "      <td>American Bison, Bison</td>\n",
       "      <td>NaN</td>\n",
       "    </tr>\n",
       "    <tr>\n",
       "      <th>2</th>\n",
       "      <td>Mammal</td>\n",
       "      <td>Bos taurus</td>\n",
       "      <td>Aurochs, Aurochs, Domestic Cattle (Feral), Domesticated Cattle</td>\n",
       "      <td>NaN</td>\n",
       "    </tr>\n",
       "    <tr>\n",
       "      <th>3</th>\n",
       "      <td>Mammal</td>\n",
       "      <td>Ovis aries</td>\n",
       "      <td>Domestic Sheep, Mouflon, Red Sheep, Sheep (Feral)</td>\n",
       "      <td>NaN</td>\n",
       "    </tr>\n",
       "    <tr>\n",
       "      <th>4</th>\n",
       "      <td>Mammal</td>\n",
       "      <td>Cervus elaphus</td>\n",
       "      <td>Wapiti Or Elk</td>\n",
       "      <td>NaN</td>\n",
       "    </tr>\n",
       "  </tbody>\n",
       "</table>\n",
       "</div>"
      ],
      "text/plain": [
       "  category                scientific_name  \\\n",
       "0  Mammal   Clethrionomys gapperi gapperi   \n",
       "1  Mammal   Bos bison                       \n",
       "2  Mammal   Bos taurus                      \n",
       "3  Mammal   Ovis aries                      \n",
       "4  Mammal   Cervus elaphus                  \n",
       "\n",
       "                                                     common_names  \\\n",
       "0  Gapper's Red-Backed Vole                                         \n",
       "1  American Bison, Bison                                            \n",
       "2  Aurochs, Aurochs, Domestic Cattle (Feral), Domesticated Cattle   \n",
       "3  Domestic Sheep, Mouflon, Red Sheep, Sheep (Feral)                \n",
       "4  Wapiti Or Elk                                                    \n",
       "\n",
       "  conservation_status  \n",
       "0  NaN                 \n",
       "1  NaN                 \n",
       "2  NaN                 \n",
       "3  NaN                 \n",
       "4  NaN                 "
      ]
     },
     "execution_count": 4,
     "metadata": {},
     "output_type": "execute_result"
    }
   ],
   "source": [
    "# inspecting species dataset\n",
    "species.head()"
   ]
  },
  {
   "cell_type": "code",
   "execution_count": 5,
   "metadata": {},
   "outputs": [
    {
     "name": "stdout",
     "output_type": "stream",
     "text": [
      "The shape of the species dataset is - (5824, 4)\n",
      "\n",
      "<class 'pandas.core.frame.DataFrame'>\n",
      "RangeIndex: 5824 entries, 0 to 5823\n",
      "Data columns (total 4 columns):\n",
      " #   Column               Non-Null Count  Dtype \n",
      "---  ------               --------------  ----- \n",
      " 0   category             5824 non-null   object\n",
      " 1   scientific_name      5824 non-null   object\n",
      " 2   common_names         5824 non-null   object\n",
      " 3   conservation_status  191 non-null    object\n",
      "dtypes: object(4)\n",
      "memory usage: 182.1+ KB\n",
      "None\n"
     ]
    }
   ],
   "source": [
    "# inspecting species dataset\n",
    "print(f\"The shape of the species dataset is - {species.shape}\")\n",
    "print()\n",
    "print(species.info())"
   ]
  },
  {
   "cell_type": "code",
   "execution_count": 6,
   "metadata": {},
   "outputs": [
    {
     "data": {
      "text/plain": [
       "['category', 'scientific_name', 'common_names', 'conservation_status']"
      ]
     },
     "execution_count": 6,
     "metadata": {},
     "output_type": "execute_result"
    }
   ],
   "source": [
    "species.columns.to_list()"
   ]
  },
  {
   "cell_type": "markdown",
   "metadata": {},
   "source": [
    "There are 5824 rows and 4 columns in the species dataset:\n",
    "* category - class of animal\n",
    "* scientific_name - the scientific name of each species\n",
    "* common_name - the common names of each species\n",
    "* conservation_status - each species’ current conservation status"
   ]
  },
  {
   "cell_type": "code",
   "execution_count": 7,
   "metadata": {},
   "outputs": [
    {
     "name": "stdout",
     "output_type": "stream",
     "text": [
      "There are 5541 unique species in the dataset.\n"
     ]
    }
   ],
   "source": [
    "# count the unique species in the dataset\n",
    "unique_species = species['scientific_name'].nunique()\n",
    "print(f\"There are {unique_species} unique species in the dataset.\")"
   ]
  },
  {
   "cell_type": "code",
   "execution_count": 8,
   "metadata": {},
   "outputs": [
    {
     "name": "stdout",
     "output_type": "stream",
     "text": [
      "The categories of species in the dataset are:\n",
      "['Mammal', 'Bird', 'Reptile', 'Amphibian', 'Fish', 'Vascular Plant', 'Nonvascular Plant']\n"
     ]
    }
   ],
   "source": [
    "# list of category of species\n",
    "categories = species['category'].unique().tolist()\n",
    "print(f\"The categories of species in the dataset are:\\n{categories}\")\n"
   ]
  },
  {
   "cell_type": "code",
   "execution_count": 9,
   "metadata": {},
   "outputs": [
    {
     "data": {
      "text/html": [
       "<div>\n",
       "<style scoped>\n",
       "    .dataframe tbody tr th:only-of-type {\n",
       "        vertical-align: middle;\n",
       "    }\n",
       "\n",
       "    .dataframe tbody tr th {\n",
       "        vertical-align: top;\n",
       "    }\n",
       "\n",
       "    .dataframe thead th {\n",
       "        text-align: right;\n",
       "    }\n",
       "</style>\n",
       "<table border=\"1\" class=\"dataframe\">\n",
       "  <thead>\n",
       "    <tr style=\"text-align: right;\">\n",
       "      <th></th>\n",
       "      <th>category</th>\n",
       "      <th>count</th>\n",
       "    </tr>\n",
       "  </thead>\n",
       "  <tbody>\n",
       "    <tr>\n",
       "      <th>0</th>\n",
       "      <td>Amphibian</td>\n",
       "      <td>80</td>\n",
       "    </tr>\n",
       "    <tr>\n",
       "      <th>1</th>\n",
       "      <td>Bird</td>\n",
       "      <td>521</td>\n",
       "    </tr>\n",
       "    <tr>\n",
       "      <th>2</th>\n",
       "      <td>Fish</td>\n",
       "      <td>127</td>\n",
       "    </tr>\n",
       "    <tr>\n",
       "      <th>3</th>\n",
       "      <td>Mammal</td>\n",
       "      <td>214</td>\n",
       "    </tr>\n",
       "    <tr>\n",
       "      <th>4</th>\n",
       "      <td>Nonvascular Plant</td>\n",
       "      <td>333</td>\n",
       "    </tr>\n",
       "    <tr>\n",
       "      <th>5</th>\n",
       "      <td>Reptile</td>\n",
       "      <td>79</td>\n",
       "    </tr>\n",
       "    <tr>\n",
       "      <th>6</th>\n",
       "      <td>Vascular Plant</td>\n",
       "      <td>4470</td>\n",
       "    </tr>\n",
       "  </tbody>\n",
       "</table>\n",
       "</div>"
      ],
      "text/plain": [
       "            category  count\n",
       "0  Amphibian          80   \n",
       "1  Bird               521  \n",
       "2  Fish               127  \n",
       "3  Mammal             214  \n",
       "4  Nonvascular Plant  333  \n",
       "5  Reptile            79   \n",
       "6  Vascular Plant     4470 "
      ]
     },
     "execution_count": 9,
     "metadata": {},
     "output_type": "execute_result"
    }
   ],
   "source": [
    "# count species by category\n",
    "species.groupby('category').size().reset_index(name='count')"
   ]
  },
  {
   "cell_type": "code",
   "execution_count": 10,
   "metadata": {},
   "outputs": [
    {
     "name": "stdout",
     "output_type": "stream",
     "text": [
      "There are 4 unique conservation statuses in the dataset.\n",
      "The unique conservation statuses are:\n",
      "[nan, 'Species of Concern', 'Endangered', 'Threatened', 'In Recovery']\n"
     ]
    }
   ],
   "source": [
    "# looking to conservation_status column\n",
    "print(f\"There are {species['conservation_status'].nunique()} unique conservation statuses in the dataset.\")\n",
    "print(f\"The unique conservation statuses are:\\n{species['conservation_status'].unique().tolist()}\")"
   ]
  },
  {
   "cell_type": "markdown",
   "metadata": {},
   "source": [
    "The column `conservation_status` has several possible values:\n",
    "- `Species of Concern`: declining or appear to be in need of conservation\n",
    "- `Threatened`: vulnerable to endangerment in the near future\n",
    "- `Endangered`: seriously at risk of extinction\n",
    "- `In Recovery`: formerly `Endangered`, but currnetly neither in danger of extinction throughout all or a significant portion of its range"
   ]
  },
  {
   "cell_type": "code",
   "execution_count": 11,
   "metadata": {},
   "outputs": [
    {
     "name": "stdout",
     "output_type": "stream",
     "text": [
      "There are 5633 species have no protected status.\n"
     ]
    }
   ],
   "source": [
    "# count nan values in conservation_status\n",
    "nan_conservation_status = species['conservation_status'].isna().sum()\n",
    "print(f\"There are {nan_conservation_status} species have no protected status.\")"
   ]
  },
  {
   "cell_type": "code",
   "execution_count": 12,
   "metadata": {},
   "outputs": [],
   "source": [
    "# fill nan values as 'No Intervention'\n",
    "species['conservation_status'].fillna('No Intervention', inplace=True)"
   ]
  },
  {
   "cell_type": "code",
   "execution_count": 13,
   "metadata": {},
   "outputs": [
    {
     "data": {
      "text/html": [
       "<div>\n",
       "<style scoped>\n",
       "    .dataframe tbody tr th:only-of-type {\n",
       "        vertical-align: middle;\n",
       "    }\n",
       "\n",
       "    .dataframe tbody tr th {\n",
       "        vertical-align: top;\n",
       "    }\n",
       "\n",
       "    .dataframe thead th {\n",
       "        text-align: right;\n",
       "    }\n",
       "</style>\n",
       "<table border=\"1\" class=\"dataframe\">\n",
       "  <thead>\n",
       "    <tr style=\"text-align: right;\">\n",
       "      <th></th>\n",
       "      <th>count</th>\n",
       "    </tr>\n",
       "    <tr>\n",
       "      <th>conservation_status</th>\n",
       "      <th></th>\n",
       "    </tr>\n",
       "  </thead>\n",
       "  <tbody>\n",
       "    <tr>\n",
       "      <th>No Intervention</th>\n",
       "      <td>5633</td>\n",
       "    </tr>\n",
       "    <tr>\n",
       "      <th>Species of Concern</th>\n",
       "      <td>161</td>\n",
       "    </tr>\n",
       "    <tr>\n",
       "      <th>Endangered</th>\n",
       "      <td>16</td>\n",
       "    </tr>\n",
       "    <tr>\n",
       "      <th>Threatened</th>\n",
       "      <td>10</td>\n",
       "    </tr>\n",
       "    <tr>\n",
       "      <th>In Recovery</th>\n",
       "      <td>4</td>\n",
       "    </tr>\n",
       "  </tbody>\n",
       "</table>\n",
       "</div>"
      ],
      "text/plain": [
       "                     count\n",
       "conservation_status       \n",
       "No Intervention      5633 \n",
       "Species of Concern   161  \n",
       "Endangered           16   \n",
       "Threatened           10   \n",
       "In Recovery          4    "
      ]
     },
     "execution_count": 13,
     "metadata": {},
     "output_type": "execute_result"
    }
   ],
   "source": [
    "species.groupby('conservation_status').size().reset_index(name='count').sort_values(by='count', ascending=False).set_index('conservation_status')"
   ]
  },
  {
   "cell_type": "markdown",
   "metadata": {},
   "source": [
    "### Handling the duplicates (species)"
   ]
  },
  {
   "cell_type": "code",
   "execution_count": 14,
   "metadata": {},
   "outputs": [
    {
     "data": {
      "text/html": [
       "<div>\n",
       "<style scoped>\n",
       "    .dataframe tbody tr th:only-of-type {\n",
       "        vertical-align: middle;\n",
       "    }\n",
       "\n",
       "    .dataframe tbody tr th {\n",
       "        vertical-align: top;\n",
       "    }\n",
       "\n",
       "    .dataframe thead th {\n",
       "        text-align: right;\n",
       "    }\n",
       "</style>\n",
       "<table border=\"1\" class=\"dataframe\">\n",
       "  <thead>\n",
       "    <tr style=\"text-align: right;\">\n",
       "      <th></th>\n",
       "      <th>count</th>\n",
       "    </tr>\n",
       "    <tr>\n",
       "      <th>scientific_name</th>\n",
       "      <th></th>\n",
       "    </tr>\n",
       "  </thead>\n",
       "  <tbody>\n",
       "    <tr>\n",
       "      <th>Canis lupus</th>\n",
       "      <td>3</td>\n",
       "    </tr>\n",
       "    <tr>\n",
       "      <th>Holcus lanatus</th>\n",
       "      <td>3</td>\n",
       "    </tr>\n",
       "    <tr>\n",
       "      <th>Puma concolor</th>\n",
       "      <td>3</td>\n",
       "    </tr>\n",
       "    <tr>\n",
       "      <th>Myotis lucifugus</th>\n",
       "      <td>3</td>\n",
       "    </tr>\n",
       "    <tr>\n",
       "      <th>Castor canadensis</th>\n",
       "      <td>3</td>\n",
       "    </tr>\n",
       "    <tr>\n",
       "      <th>Procyon lotor</th>\n",
       "      <td>3</td>\n",
       "    </tr>\n",
       "    <tr>\n",
       "      <th>Streptopelia decaocto</th>\n",
       "      <td>3</td>\n",
       "    </tr>\n",
       "    <tr>\n",
       "      <th>Hypochaeris radicata</th>\n",
       "      <td>3</td>\n",
       "    </tr>\n",
       "    <tr>\n",
       "      <th>Columba livia</th>\n",
       "      <td>3</td>\n",
       "    </tr>\n",
       "    <tr>\n",
       "      <th>Podiceps nigricollis</th>\n",
       "      <td>2</td>\n",
       "    </tr>\n",
       "  </tbody>\n",
       "</table>\n",
       "</div>"
      ],
      "text/plain": [
       "                       count\n",
       "scientific_name             \n",
       "Canis lupus            3    \n",
       "Holcus lanatus         3    \n",
       "Puma concolor          3    \n",
       "Myotis lucifugus       3    \n",
       "Castor canadensis      3    \n",
       "Procyon lotor          3    \n",
       "Streptopelia decaocto  3    \n",
       "Hypochaeris radicata   3    \n",
       "Columba livia          3    \n",
       "Podiceps nigricollis   2    "
      ]
     },
     "execution_count": 14,
     "metadata": {},
     "output_type": "execute_result"
    }
   ],
   "source": [
    "# count scientific_name values\n",
    "sci_names_count= species.groupby(['scientific_name']).size().reset_index(name='count').sort_values(by='count', ascending=False).set_index('scientific_name')\n",
    "sci_names_count.head(10)"
   ]
  },
  {
   "cell_type": "markdown",
   "metadata": {},
   "source": [
    "It seems, that there are several scientific names with the same value. We should investigate deeper this issue by checking for duplicates in the dataset."
   ]
  },
  {
   "cell_type": "code",
   "execution_count": 15,
   "metadata": {},
   "outputs": [
    {
     "data": {
      "text/html": [
       "<div>\n",
       "<style scoped>\n",
       "    .dataframe tbody tr th:only-of-type {\n",
       "        vertical-align: middle;\n",
       "    }\n",
       "\n",
       "    .dataframe tbody tr th {\n",
       "        vertical-align: top;\n",
       "    }\n",
       "\n",
       "    .dataframe thead th {\n",
       "        text-align: right;\n",
       "    }\n",
       "</style>\n",
       "<table border=\"1\" class=\"dataframe\">\n",
       "  <thead>\n",
       "    <tr style=\"text-align: right;\">\n",
       "      <th></th>\n",
       "      <th>category</th>\n",
       "      <th>scientific_name</th>\n",
       "      <th>common_names</th>\n",
       "      <th>conservation_status</th>\n",
       "    </tr>\n",
       "  </thead>\n",
       "  <tbody>\n",
       "    <tr>\n",
       "      <th>8</th>\n",
       "      <td>Mammal</td>\n",
       "      <td>Canis lupus</td>\n",
       "      <td>Gray Wolf</td>\n",
       "      <td>Endangered</td>\n",
       "    </tr>\n",
       "    <tr>\n",
       "      <th>3020</th>\n",
       "      <td>Mammal</td>\n",
       "      <td>Canis lupus</td>\n",
       "      <td>Gray Wolf, Wolf</td>\n",
       "      <td>In Recovery</td>\n",
       "    </tr>\n",
       "    <tr>\n",
       "      <th>4448</th>\n",
       "      <td>Mammal</td>\n",
       "      <td>Canis lupus</td>\n",
       "      <td>Gray Wolf, Wolf</td>\n",
       "      <td>Endangered</td>\n",
       "    </tr>\n",
       "  </tbody>\n",
       "</table>\n",
       "</div>"
      ],
      "text/plain": [
       "     category scientific_name     common_names conservation_status\n",
       "8     Mammal   Canis lupus     Gray Wolf        Endangered        \n",
       "3020  Mammal   Canis lupus     Gray Wolf, Wolf  In Recovery       \n",
       "4448  Mammal   Canis lupus     Gray Wolf, Wolf  Endangered        "
      ]
     },
     "execution_count": 15,
     "metadata": {},
     "output_type": "execute_result"
    }
   ],
   "source": [
    "scientific_name = 'Canis lupus'\n",
    "filt_specie = (species['scientific_name'] == scientific_name)\n",
    "species[filt_specie]"
   ]
  },
  {
   "cell_type": "markdown",
   "metadata": {},
   "source": [
    "For example, we can check the number of records of `Canis lupus` (Gray Wolf one of the common names) in the dataset. There are 3 values for this species at `scientific_name` column with different conservation statuses and common names.\n",
    "For further investigation, we will remove duplicates in the `scientific_name` column so that the most important `conservation_status` remains and simultaneously combine all `common_names`."
   ]
  },
  {
   "cell_type": "code",
   "execution_count": 16,
   "metadata": {},
   "outputs": [
    {
     "data": {
      "text/html": [
       "<div>\n",
       "<style scoped>\n",
       "    .dataframe tbody tr th:only-of-type {\n",
       "        vertical-align: middle;\n",
       "    }\n",
       "\n",
       "    .dataframe tbody tr th {\n",
       "        vertical-align: top;\n",
       "    }\n",
       "\n",
       "    .dataframe thead th {\n",
       "        text-align: right;\n",
       "    }\n",
       "</style>\n",
       "<table border=\"1\" class=\"dataframe\">\n",
       "  <thead>\n",
       "    <tr style=\"text-align: right;\">\n",
       "      <th></th>\n",
       "      <th>category</th>\n",
       "      <th>scientific_name</th>\n",
       "      <th>common_names</th>\n",
       "      <th>conservation_status</th>\n",
       "      <th>conservation_priority</th>\n",
       "    </tr>\n",
       "  </thead>\n",
       "  <tbody>\n",
       "    <tr>\n",
       "      <th>4448</th>\n",
       "      <td>Mammal</td>\n",
       "      <td>Canis lupus</td>\n",
       "      <td>Gray Wolf, Wolf</td>\n",
       "      <td>Endangered</td>\n",
       "      <td>4</td>\n",
       "    </tr>\n",
       "    <tr>\n",
       "      <th>4446</th>\n",
       "      <td>Mammal</td>\n",
       "      <td>Ovis canadensis sierrae</td>\n",
       "      <td>Sierra Nevada Bighorn Sheep</td>\n",
       "      <td>Endangered</td>\n",
       "      <td>4</td>\n",
       "    </tr>\n",
       "    <tr>\n",
       "      <th>4601</th>\n",
       "      <td>Amphibian</td>\n",
       "      <td>Rana sierrae</td>\n",
       "      <td>Sierra Nevada Yellow-Legged Frog</td>\n",
       "      <td>Endangered</td>\n",
       "      <td>4</td>\n",
       "    </tr>\n",
       "    <tr>\n",
       "      <th>4505</th>\n",
       "      <td>Bird</td>\n",
       "      <td>Gymnogyps californianus</td>\n",
       "      <td>California Condor</td>\n",
       "      <td>Endangered</td>\n",
       "      <td>4</td>\n",
       "    </tr>\n",
       "    <tr>\n",
       "      <th>343</th>\n",
       "      <td>Bird</td>\n",
       "      <td>Picoides borealis</td>\n",
       "      <td>Red-Cockaded Woodpecker</td>\n",
       "      <td>Endangered</td>\n",
       "      <td>4</td>\n",
       "    </tr>\n",
       "  </tbody>\n",
       "</table>\n",
       "</div>"
      ],
      "text/plain": [
       "       category          scientific_name                      common_names  \\\n",
       "4448  Mammal     Canis lupus              Gray Wolf, Wolf                    \n",
       "4446  Mammal     Ovis canadensis sierrae  Sierra Nevada Bighorn Sheep        \n",
       "4601  Amphibian  Rana sierrae             Sierra Nevada Yellow-Legged Frog   \n",
       "4505  Bird       Gymnogyps californianus  California Condor                  \n",
       "343   Bird       Picoides borealis        Red-Cockaded Woodpecker            \n",
       "\n",
       "     conservation_status  conservation_priority  \n",
       "4448  Endangered          4                      \n",
       "4446  Endangered          4                      \n",
       "4601  Endangered          4                      \n",
       "4505  Endangered          4                      \n",
       "343   Endangered          4                      "
      ]
     },
     "execution_count": 16,
     "metadata": {},
     "output_type": "execute_result"
    }
   ],
   "source": [
    "# set priority of conservation status\n",
    "priority = {\n",
    "    'No Intervention': 0,\n",
    "    'In Recovery': 1,\n",
    "    'Species of Concern': 2,\n",
    "    'Threatened': 3,\n",
    "    'Endangered': 4\n",
    "}\n",
    "\n",
    "# create conservation priority column and sort species by priority\n",
    "species['conservation_priority'] = species['conservation_status'].map(priority)\n",
    "species_sort_priority = species.sort_values(by='conservation_priority', ascending=False)\n",
    "species_sort_priority.head()"
   ]
  },
  {
   "cell_type": "code",
   "execution_count": 17,
   "metadata": {},
   "outputs": [
    {
     "data": {
      "text/html": [
       "<div>\n",
       "<style scoped>\n",
       "    .dataframe tbody tr th:only-of-type {\n",
       "        vertical-align: middle;\n",
       "    }\n",
       "\n",
       "    .dataframe tbody tr th {\n",
       "        vertical-align: top;\n",
       "    }\n",
       "\n",
       "    .dataframe thead th {\n",
       "        text-align: right;\n",
       "    }\n",
       "</style>\n",
       "<table border=\"1\" class=\"dataframe\">\n",
       "  <thead>\n",
       "    <tr style=\"text-align: right;\">\n",
       "      <th></th>\n",
       "      <th>scientific_name</th>\n",
       "      <th>common_names</th>\n",
       "    </tr>\n",
       "  </thead>\n",
       "  <tbody>\n",
       "    <tr>\n",
       "      <th>804</th>\n",
       "      <td>Canis lupus</td>\n",
       "      <td>Wolf, Gray Wolf</td>\n",
       "    </tr>\n",
       "  </tbody>\n",
       "</table>\n",
       "</div>"
      ],
      "text/plain": [
       "    scientific_name     common_names\n",
       "804  Canis lupus     Wolf, Gray Wolf"
      ]
     },
     "execution_count": 17,
     "metadata": {},
     "output_type": "execute_result"
    }
   ],
   "source": [
    "# create a function to remove punctuation in text\n",
    "import string\n",
    "\n",
    "def remove_punctuation(text):\n",
    "    for punctuation in string.punctuation:\n",
    "        text = text.replace(punctuation, '')\n",
    "    return text\n",
    "\n",
    "# group by scientific_name and aggregate unique common names\n",
    "# remove_punctuation in each common name > \n",
    "# join common names by ', ' in scientific_name group > \n",
    "# split them by ', ' into a list > \n",
    "# leave only unique values with set >\n",
    "# final join with ', '\n",
    "names_agg = species.groupby('scientific_name')\\\n",
    "    ['common_names'].apply(lambda x: ', '.join(set((', '.join(remove_punctuation(x).dropna())).split(', '))))\\\n",
    "        .reset_index()\n",
    "\n",
    "# check the result\n",
    "names_agg[(names_agg['scientific_name'] == scientific_name)]"
   ]
  },
  {
   "cell_type": "code",
   "execution_count": 18,
   "metadata": {},
   "outputs": [
    {
     "data": {
      "text/html": [
       "<div>\n",
       "<style scoped>\n",
       "    .dataframe tbody tr th:only-of-type {\n",
       "        vertical-align: middle;\n",
       "    }\n",
       "\n",
       "    .dataframe tbody tr th {\n",
       "        vertical-align: top;\n",
       "    }\n",
       "\n",
       "    .dataframe thead th {\n",
       "        text-align: right;\n",
       "    }\n",
       "</style>\n",
       "<table border=\"1\" class=\"dataframe\">\n",
       "  <thead>\n",
       "    <tr style=\"text-align: right;\">\n",
       "      <th></th>\n",
       "      <th>category</th>\n",
       "      <th>scientific_name</th>\n",
       "      <th>conservation_status</th>\n",
       "      <th>common_names</th>\n",
       "    </tr>\n",
       "  </thead>\n",
       "  <tbody>\n",
       "    <tr>\n",
       "      <th>0</th>\n",
       "      <td>Mammal</td>\n",
       "      <td>Canis lupus</td>\n",
       "      <td>Endangered</td>\n",
       "      <td>Wolf, Gray Wolf</td>\n",
       "    </tr>\n",
       "  </tbody>\n",
       "</table>\n",
       "</div>"
      ],
      "text/plain": [
       "  category scientific_name conservation_status     common_names\n",
       "0  Mammal   Canis lupus     Endangered          Wolf, Gray Wolf"
      ]
     },
     "execution_count": 18,
     "metadata": {},
     "output_type": "execute_result"
    }
   ],
   "source": [
    "# create clean species dataset\n",
    "# drop common_names column\n",
    "# left merge species_sort_priority with names_agg\n",
    "# drop conservation_priority, drop duplicates by scientific_name\n",
    "species_clean = species_sort_priority.drop(columns=['common_names'])\\\n",
    "    .merge(names_agg, on='scientific_name', how='left')\\\n",
    "    .drop(columns=['conservation_priority'])\\\n",
    "    .drop_duplicates(subset=['scientific_name'])\n",
    "\n",
    "species_clean[species_clean['scientific_name'] == scientific_name]"
   ]
  },
  {
   "cell_type": "code",
   "execution_count": 19,
   "metadata": {},
   "outputs": [
    {
     "data": {
      "text/plain": [
       "(5541, 4)"
      ]
     },
     "execution_count": 19,
     "metadata": {},
     "output_type": "execute_result"
    }
   ],
   "source": [
    "species_clean.shape"
   ]
  },
  {
   "cell_type": "markdown",
   "metadata": {},
   "source": [
    "Finally, we have a clean dataset `species_clean` with unique 5,541 species, highest conservation status and all unique common names in a single column."
   ]
  },
  {
   "cell_type": "code",
   "execution_count": 20,
   "metadata": {},
   "outputs": [
    {
     "data": {
      "text/html": [
       "<div>\n",
       "<style scoped>\n",
       "    .dataframe tbody tr th:only-of-type {\n",
       "        vertical-align: middle;\n",
       "    }\n",
       "\n",
       "    .dataframe tbody tr th {\n",
       "        vertical-align: top;\n",
       "    }\n",
       "\n",
       "    .dataframe thead th {\n",
       "        text-align: right;\n",
       "    }\n",
       "</style>\n",
       "<table border=\"1\" class=\"dataframe\">\n",
       "  <thead>\n",
       "    <tr style=\"text-align: right;\">\n",
       "      <th></th>\n",
       "      <th>count</th>\n",
       "    </tr>\n",
       "    <tr>\n",
       "      <th>category</th>\n",
       "      <th></th>\n",
       "    </tr>\n",
       "  </thead>\n",
       "  <tbody>\n",
       "    <tr>\n",
       "      <th>Amphibian</th>\n",
       "      <td>79</td>\n",
       "    </tr>\n",
       "    <tr>\n",
       "      <th>Bird</th>\n",
       "      <td>488</td>\n",
       "    </tr>\n",
       "    <tr>\n",
       "      <th>Fish</th>\n",
       "      <td>125</td>\n",
       "    </tr>\n",
       "    <tr>\n",
       "      <th>Mammal</th>\n",
       "      <td>176</td>\n",
       "    </tr>\n",
       "    <tr>\n",
       "      <th>Nonvascular Plant</th>\n",
       "      <td>333</td>\n",
       "    </tr>\n",
       "    <tr>\n",
       "      <th>Reptile</th>\n",
       "      <td>78</td>\n",
       "    </tr>\n",
       "    <tr>\n",
       "      <th>Vascular Plant</th>\n",
       "      <td>4262</td>\n",
       "    </tr>\n",
       "  </tbody>\n",
       "</table>\n",
       "</div>"
      ],
      "text/plain": [
       "                   count\n",
       "category                \n",
       "Amphibian          79   \n",
       "Bird               488  \n",
       "Fish               125  \n",
       "Mammal             176  \n",
       "Nonvascular Plant  333  \n",
       "Reptile            78   \n",
       "Vascular Plant     4262 "
      ]
     },
     "execution_count": 20,
     "metadata": {},
     "output_type": "execute_result"
    }
   ],
   "source": [
    "# count species by category one more time\n",
    "species_clean.groupby('category').size().reset_index(name='count').set_index('category')\n"
   ]
  },
  {
   "cell_type": "code",
   "execution_count": 21,
   "metadata": {},
   "outputs": [
    {
     "data": {
      "image/png": "[encoded data removed]",
      "text/plain": [
       "<Figure size 800x500 with 1 Axes>"
      ]
     },
     "metadata": {},
     "output_type": "display_data"
    }
   ],
   "source": [
    "# creating a countplot for the 'category' column\n",
    "plt.figure(figsize=(8, 5), frameon=True)\n",
    "sns.countplot(data=species_clean, x='category', hue='category', palette='Set2', order=species_clean['category'].value_counts().index, legend=False)\n",
    "plt.title('Count of Species by Category')\n",
    "plt.xticks(rotation=30, fontsize=8)\n",
    "plt.show()"
   ]
  },
  {
   "cell_type": "code",
   "execution_count": 22,
   "metadata": {},
   "outputs": [
    {
     "data": {
      "text/html": [
       "<div>\n",
       "<style scoped>\n",
       "    .dataframe tbody tr th:only-of-type {\n",
       "        vertical-align: middle;\n",
       "    }\n",
       "\n",
       "    .dataframe tbody tr th {\n",
       "        vertical-align: top;\n",
       "    }\n",
       "\n",
       "    .dataframe thead th {\n",
       "        text-align: right;\n",
       "    }\n",
       "</style>\n",
       "<table border=\"1\" class=\"dataframe\">\n",
       "  <thead>\n",
       "    <tr style=\"text-align: right;\">\n",
       "      <th></th>\n",
       "      <th>count</th>\n",
       "    </tr>\n",
       "    <tr>\n",
       "      <th>conservation_status</th>\n",
       "      <th></th>\n",
       "    </tr>\n",
       "  </thead>\n",
       "  <tbody>\n",
       "    <tr>\n",
       "      <th>No Intervention</th>\n",
       "      <td>5362</td>\n",
       "    </tr>\n",
       "    <tr>\n",
       "      <th>Species of Concern</th>\n",
       "      <td>151</td>\n",
       "    </tr>\n",
       "    <tr>\n",
       "      <th>Endangered</th>\n",
       "      <td>15</td>\n",
       "    </tr>\n",
       "    <tr>\n",
       "      <th>Threatened</th>\n",
       "      <td>10</td>\n",
       "    </tr>\n",
       "    <tr>\n",
       "      <th>In Recovery</th>\n",
       "      <td>3</td>\n",
       "    </tr>\n",
       "  </tbody>\n",
       "</table>\n",
       "</div>"
      ],
      "text/plain": [
       "                     count\n",
       "conservation_status       \n",
       "No Intervention      5362 \n",
       "Species of Concern   151  \n",
       "Endangered           15   \n",
       "Threatened           10   \n",
       "In Recovery          3    "
      ]
     },
     "execution_count": 22,
     "metadata": {},
     "output_type": "execute_result"
    }
   ],
   "source": [
    "# count species by conservation status one more time\n",
    "species_clean.groupby('conservation_status')\\\n",
    "    .size()\\\n",
    "    .reset_index(name='count')\\\n",
    "    .set_index('conservation_status')\\\n",
    "    .sort_values(by='count', ascending=False)"
   ]
  },
  {
   "cell_type": "code",
   "execution_count": 23,
   "metadata": {},
   "outputs": [
    {
     "data": {
      "text/html": [
       "<div>\n",
       "<style scoped>\n",
       "    .dataframe tbody tr th:only-of-type {\n",
       "        vertical-align: middle;\n",
       "    }\n",
       "\n",
       "    .dataframe tbody tr th {\n",
       "        vertical-align: top;\n",
       "    }\n",
       "\n",
       "    .dataframe thead th {\n",
       "        text-align: right;\n",
       "    }\n",
       "</style>\n",
       "<table border=\"1\" class=\"dataframe\">\n",
       "  <thead>\n",
       "    <tr style=\"text-align: right;\">\n",
       "      <th>category</th>\n",
       "      <th>Amphibian</th>\n",
       "      <th>Bird</th>\n",
       "      <th>Fish</th>\n",
       "      <th>Mammal</th>\n",
       "      <th>Nonvascular Plant</th>\n",
       "      <th>Reptile</th>\n",
       "      <th>Vascular Plant</th>\n",
       "    </tr>\n",
       "    <tr>\n",
       "      <th>conservation_status</th>\n",
       "      <th></th>\n",
       "      <th></th>\n",
       "      <th></th>\n",
       "      <th></th>\n",
       "      <th></th>\n",
       "      <th></th>\n",
       "      <th></th>\n",
       "    </tr>\n",
       "  </thead>\n",
       "  <tbody>\n",
       "    <tr>\n",
       "      <th>Endangered</th>\n",
       "      <td>1</td>\n",
       "      <td>4</td>\n",
       "      <td>3</td>\n",
       "      <td>6</td>\n",
       "      <td>0</td>\n",
       "      <td>0</td>\n",
       "      <td>1</td>\n",
       "    </tr>\n",
       "    <tr>\n",
       "      <th>In Recovery</th>\n",
       "      <td>0</td>\n",
       "      <td>3</td>\n",
       "      <td>0</td>\n",
       "      <td>0</td>\n",
       "      <td>0</td>\n",
       "      <td>0</td>\n",
       "      <td>0</td>\n",
       "    </tr>\n",
       "    <tr>\n",
       "      <th>No Intervention</th>\n",
       "      <td>72</td>\n",
       "      <td>413</td>\n",
       "      <td>114</td>\n",
       "      <td>146</td>\n",
       "      <td>328</td>\n",
       "      <td>73</td>\n",
       "      <td>4216</td>\n",
       "    </tr>\n",
       "    <tr>\n",
       "      <th>Species of Concern</th>\n",
       "      <td>4</td>\n",
       "      <td>68</td>\n",
       "      <td>4</td>\n",
       "      <td>22</td>\n",
       "      <td>5</td>\n",
       "      <td>5</td>\n",
       "      <td>43</td>\n",
       "    </tr>\n",
       "    <tr>\n",
       "      <th>Threatened</th>\n",
       "      <td>2</td>\n",
       "      <td>0</td>\n",
       "      <td>4</td>\n",
       "      <td>2</td>\n",
       "      <td>0</td>\n",
       "      <td>0</td>\n",
       "      <td>2</td>\n",
       "    </tr>\n",
       "  </tbody>\n",
       "</table>\n",
       "</div>"
      ],
      "text/plain": [
       "category             Amphibian  Bird  Fish  Mammal  Nonvascular Plant  \\\n",
       "conservation_status                                                     \n",
       "Endangered           1          4     3     6       0                   \n",
       "In Recovery          0          3     0     0       0                   \n",
       "No Intervention      72         413   114   146     328                 \n",
       "Species of Concern   4          68    4     22      5                   \n",
       "Threatened           2          0     4     2       0                   \n",
       "\n",
       "category             Reptile  Vascular Plant  \n",
       "conservation_status                           \n",
       "Endangered           0        1               \n",
       "In Recovery          0        0               \n",
       "No Intervention      73       4216            \n",
       "Species of Concern   5        43              \n",
       "Threatened           0        2               "
      ]
     },
     "execution_count": 23,
     "metadata": {},
     "output_type": "execute_result"
    }
   ],
   "source": [
    "# select category and conservation status, group by conservation_status, and count category in each status\n",
    "# using .unstack() to pivot the table; fill missing values with 0\n",
    "cons_status = species_clean.groupby('conservation_status')[['category', 'conservation_status']]\\\n",
    "    .value_counts()\\\n",
    "    .unstack()\\\n",
    "    .fillna(0)\\\n",
    "    .astype(int)\\\n",
    "\n",
    "cons_status"
   ]
  },
  {
   "cell_type": "code",
   "execution_count": 24,
   "metadata": {},
   "outputs": [],
   "source": [
    "# creating a dataframe with important conservation statuses\n",
    "main_cons_status = cons_status.drop(index='No Intervention')"
   ]
  },
  {
   "cell_type": "code",
   "execution_count": 25,
   "metadata": {},
   "outputs": [
    {
     "data": {
      "image/png": "[encoded data removed]",
      "text/plain": [
       "<Figure size 800x500 with 1 Axes>"
      ]
     },
     "metadata": {},
     "output_type": "display_data"
    }
   ],
   "source": [
    "# creating stacked bar plot for conservation status by category\n",
    "main_cons_status.plot(kind='bar', stacked=True, figsize=(8, 5))\n",
    "plt.title('Conservation Status by Category')\n",
    "plt.xlabel('Conservation Status')\n",
    "plt.ylabel('Number of Species')\n",
    "plt.show()"
   ]
  },
  {
   "cell_type": "markdown",
   "metadata": {},
   "source": [
    "#### Insights from species data\n",
    "\n",
    "The species dataset contains information about animal and plant species living in U.S. national parks, including their conservation status.\n",
    "\n",
    "The data shows that 179 out of 5,541 species have been assigned some form of conservation status. This represents approximately 3.23% of all species in the dataset.\n",
    "\n",
    "The most prevalent category is Vascular Plants, with a total of 4,262 species. Other notable groups include Birds, Nonvascular Plants, and Mammals. The smallest categories are Reptiles and Amphibians.\n",
    "\n",
    "Around 200 species have been assigned a conservation status. The most common status is Species of Concern, where birds make up the largest share. Vascular Plants and Mammals also represent a significant portion of this category.\n",
    "\n",
    "Among endangered species, mammals are the most represented group, followed by birds and fish.\n",
    "\n",
    "The In Recovery status applies to only 3 species across all national parks. The are three bird species.\n",
    "\n",
    "If environmental conditions remain unchanged in the coming years, several species of Amphibians, Mammals, Fish, and Vascular Plants may move into the endangered category."
   ]
  },
  {
   "cell_type": "markdown",
   "metadata": {},
   "source": [
    "### Observations data"
   ]
  },
  {
   "cell_type": "code",
   "execution_count": 29,
   "metadata": {},
   "outputs": [
    {
     "data": {
      "text/html": [
       "<div>\n",
       "<style scoped>\n",
       "    .dataframe tbody tr th:only-of-type {\n",
       "        vertical-align: middle;\n",
       "    }\n",
       "\n",
       "    .dataframe tbody tr th {\n",
       "        vertical-align: top;\n",
       "    }\n",
       "\n",
       "    .dataframe thead th {\n",
       "        text-align: right;\n",
       "    }\n",
       "</style>\n",
       "<table border=\"1\" class=\"dataframe\">\n",
       "  <thead>\n",
       "    <tr style=\"text-align: right;\">\n",
       "      <th></th>\n",
       "      <th>scientific_name</th>\n",
       "      <th>park_name</th>\n",
       "      <th>observations</th>\n",
       "    </tr>\n",
       "  </thead>\n",
       "  <tbody>\n",
       "    <tr>\n",
       "      <th>0</th>\n",
       "      <td>Vicia benghalensis</td>\n",
       "      <td>Great Smoky Mountains National Park</td>\n",
       "      <td>68</td>\n",
       "    </tr>\n",
       "    <tr>\n",
       "      <th>1</th>\n",
       "      <td>Neovison vison</td>\n",
       "      <td>Great Smoky Mountains National Park</td>\n",
       "      <td>77</td>\n",
       "    </tr>\n",
       "    <tr>\n",
       "      <th>2</th>\n",
       "      <td>Prunus subcordata</td>\n",
       "      <td>Yosemite National Park</td>\n",
       "      <td>138</td>\n",
       "    </tr>\n",
       "    <tr>\n",
       "      <th>3</th>\n",
       "      <td>Abutilon theophrasti</td>\n",
       "      <td>Bryce National Park</td>\n",
       "      <td>84</td>\n",
       "    </tr>\n",
       "    <tr>\n",
       "      <th>4</th>\n",
       "      <td>Githopsis specularioides</td>\n",
       "      <td>Great Smoky Mountains National Park</td>\n",
       "      <td>85</td>\n",
       "    </tr>\n",
       "  </tbody>\n",
       "</table>\n",
       "</div>"
      ],
      "text/plain": [
       "            scientific_name                            park_name  observations\n",
       "0  Vicia benghalensis        Great Smoky Mountains National Park  68          \n",
       "1  Neovison vison            Great Smoky Mountains National Park  77          \n",
       "2  Prunus subcordata         Yosemite National Park               138         \n",
       "3  Abutilon theophrasti      Bryce National Park                  84          \n",
       "4  Githopsis specularioides  Great Smoky Mountains National Park  85          "
      ]
     },
     "execution_count": 29,
     "metadata": {},
     "output_type": "execute_result"
    }
   ],
   "source": [
    "# inspecting observations dataset\n",
    "observations.head()"
   ]
  },
  {
   "cell_type": "code",
   "execution_count": 30,
   "metadata": {},
   "outputs": [
    {
     "name": "stdout",
     "output_type": "stream",
     "text": [
      "The shape of the observations dataset is - (23296, 3)\n"
     ]
    }
   ],
   "source": [
    "# inspecting observations dataset\n",
    "print(f\"The shape of the observations dataset is - {observations.shape}\")"
   ]
  },
  {
   "cell_type": "code",
   "execution_count": 31,
   "metadata": {},
   "outputs": [
    {
     "name": "stdout",
     "output_type": "stream",
     "text": [
      "<class 'pandas.core.frame.DataFrame'>\n",
      "RangeIndex: 23296 entries, 0 to 23295\n",
      "Data columns (total 3 columns):\n",
      " #   Column           Non-Null Count  Dtype \n",
      "---  ------           --------------  ----- \n",
      " 0   scientific_name  23296 non-null  object\n",
      " 1   park_name        23296 non-null  object\n",
      " 2   observations     23296 non-null  int64 \n",
      "dtypes: int64(1), object(2)\n",
      "memory usage: 546.1+ KB\n",
      "None\n"
     ]
    }
   ],
   "source": [
    "print(observations.info())"
   ]
  },
  {
   "cell_type": "code",
   "execution_count": 32,
   "metadata": {},
   "outputs": [
    {
     "data": {
      "text/plain": [
       "['scientific_name', 'park_name', 'observations']"
      ]
     },
     "execution_count": 32,
     "metadata": {},
     "output_type": "execute_result"
    }
   ],
   "source": [
    "observations.columns.to_list()"
   ]
  },
  {
   "cell_type": "markdown",
   "metadata": {},
   "source": [
    "There are 23296 rows and 3 columns in the observations dataset:\n",
    "* scientific_name - the scientific name of each species\n",
    "* park_name - park where species were found\n",
    "* observations - the number of times each species was observed at park"
   ]
  },
  {
   "cell_type": "markdown",
   "metadata": {},
   "source": [
    "### Handling the duplicates (Observations)"
   ]
  },
  {
   "cell_type": "code",
   "execution_count": 33,
   "metadata": {},
   "outputs": [
    {
     "name": "stdout",
     "output_type": "stream",
     "text": [
      "True\n"
     ]
    }
   ],
   "source": [
    "# base check for duplicates\n",
    "print(observations.duplicated().any())"
   ]
  },
  {
   "cell_type": "code",
   "execution_count": 34,
   "metadata": {},
   "outputs": [
    {
     "data": {
      "text/html": [
       "<div>\n",
       "<style scoped>\n",
       "    .dataframe tbody tr th:only-of-type {\n",
       "        vertical-align: middle;\n",
       "    }\n",
       "\n",
       "    .dataframe tbody tr th {\n",
       "        vertical-align: top;\n",
       "    }\n",
       "\n",
       "    .dataframe thead th {\n",
       "        text-align: right;\n",
       "    }\n",
       "</style>\n",
       "<table border=\"1\" class=\"dataframe\">\n",
       "  <thead>\n",
       "    <tr style=\"text-align: right;\">\n",
       "      <th></th>\n",
       "      <th>scientific_name</th>\n",
       "      <th>park_name</th>\n",
       "      <th>observations</th>\n",
       "    </tr>\n",
       "  </thead>\n",
       "  <tbody>\n",
       "    <tr>\n",
       "      <th>792</th>\n",
       "      <td>Agrostis capillaris</td>\n",
       "      <td>Great Smoky Mountains National Park</td>\n",
       "      <td>84</td>\n",
       "    </tr>\n",
       "    <tr>\n",
       "      <th>7750</th>\n",
       "      <td>Agrostis capillaris</td>\n",
       "      <td>Yosemite National Park</td>\n",
       "      <td>182</td>\n",
       "    </tr>\n",
       "    <tr>\n",
       "      <th>17735</th>\n",
       "      <td>Agrostis capillaris</td>\n",
       "      <td>Yosemite National Park</td>\n",
       "      <td>140</td>\n",
       "    </tr>\n",
       "    <tr>\n",
       "      <th>4864</th>\n",
       "      <td>Agrostis capillaris</td>\n",
       "      <td>Bryce National Park</td>\n",
       "      <td>105</td>\n",
       "    </tr>\n",
       "    <tr>\n",
       "      <th>6166</th>\n",
       "      <td>Agrostis capillaris</td>\n",
       "      <td>Yellowstone National Park</td>\n",
       "      <td>241</td>\n",
       "    </tr>\n",
       "    <tr>\n",
       "      <th>17428</th>\n",
       "      <td>Agrostis capillaris</td>\n",
       "      <td>Great Smoky Mountains National Park</td>\n",
       "      <td>97</td>\n",
       "    </tr>\n",
       "    <tr>\n",
       "      <th>3993</th>\n",
       "      <td>Agrostis capillaris</td>\n",
       "      <td>Bryce National Park</td>\n",
       "      <td>103</td>\n",
       "    </tr>\n",
       "    <tr>\n",
       "      <th>10379</th>\n",
       "      <td>Agrostis capillaris</td>\n",
       "      <td>Yellowstone National Park</td>\n",
       "      <td>267</td>\n",
       "    </tr>\n",
       "    <tr>\n",
       "      <th>17535</th>\n",
       "      <td>Agrostis gigantea</td>\n",
       "      <td>Yosemite National Park</td>\n",
       "      <td>128</td>\n",
       "    </tr>\n",
       "    <tr>\n",
       "      <th>13907</th>\n",
       "      <td>Agrostis gigantea</td>\n",
       "      <td>Yosemite National Park</td>\n",
       "      <td>148</td>\n",
       "    </tr>\n",
       "  </tbody>\n",
       "</table>\n",
       "</div>"
      ],
      "text/plain": [
       "           scientific_name                            park_name  observations\n",
       "792    Agrostis capillaris  Great Smoky Mountains National Park  84          \n",
       "7750   Agrostis capillaris  Yosemite National Park               182         \n",
       "17735  Agrostis capillaris  Yosemite National Park               140         \n",
       "4864   Agrostis capillaris  Bryce National Park                  105         \n",
       "6166   Agrostis capillaris  Yellowstone National Park            241         \n",
       "17428  Agrostis capillaris  Great Smoky Mountains National Park  97          \n",
       "3993   Agrostis capillaris  Bryce National Park                  103         \n",
       "10379  Agrostis capillaris  Yellowstone National Park            267         \n",
       "17535  Agrostis gigantea    Yosemite National Park               128         \n",
       "13907  Agrostis gigantea    Yosemite National Park               148         "
      ]
     },
     "execution_count": 34,
     "metadata": {},
     "output_type": "execute_result"
    }
   ],
   "source": [
    "# checking duplicates in observations dataset\n",
    "observations[observations.duplicated(subset=['scientific_name', 'park_name'], keep=False)] \\\n",
    "\t.sort_values(by='scientific_name') \\\n",
    "\t.head(10)"
   ]
  },
  {
   "cell_type": "markdown",
   "metadata": {},
   "source": [
    "As we can see, the observations dataset has also some duplicated records. Let's agregate observations by scientific name and park and summing the number of observations for each species in each park."
   ]
  },
  {
   "cell_type": "code",
   "execution_count": 35,
   "metadata": {},
   "outputs": [
    {
     "data": {
      "text/plain": [
       "1132"
      ]
     },
     "execution_count": 35,
     "metadata": {},
     "output_type": "execute_result"
    }
   ],
   "source": [
    "# count duplicates\n",
    "observations.duplicated(subset=['scientific_name', 'park_name'], keep='last').sum()"
   ]
  },
  {
   "cell_type": "code",
   "execution_count": 36,
   "metadata": {},
   "outputs": [
    {
     "name": "stdout",
     "output_type": "stream",
     "text": [
      "The shape of the cleaned observations dataset is - (22164, 3)\n"
     ]
    }
   ],
   "source": [
    "# agregating observations by scientific_name and park_name\n",
    "# summing the observations for each group\n",
    "observations_clean = observations.groupby(['scientific_name', 'park_name'], as_index=False)['observations'].sum()\n",
    "print(f\"The shape of the cleaned observations dataset is - {observations_clean.shape}\")"
   ]
  },
  {
   "cell_type": "code",
   "execution_count": 37,
   "metadata": {},
   "outputs": [
    {
     "data": {
      "text/plain": [
       "False"
      ]
     },
     "execution_count": 37,
     "metadata": {},
     "output_type": "execute_result"
    }
   ],
   "source": [
    "# again checking for duplicates in cleaned observations dataset\n",
    "observations_clean.duplicated().any()"
   ]
  },
  {
   "cell_type": "code",
   "execution_count": 38,
   "metadata": {},
   "outputs": [
    {
     "data": {
      "image/png": "[encoded data removed]",
      "text/plain": [
       "<Figure size 800x500 with 1 Axes>"
      ]
     },
     "metadata": {},
     "output_type": "display_data"
    }
   ],
   "source": [
    "# making the histogram for the observations\n",
    "plt.figure(figsize=(8, 5), frameon=True)\n",
    "sns.histplot(data=observations_clean, x='observations', bins=50, kde=True)\n",
    "plt.title('Distribution of Observations')\n",
    "plt.show()"
   ]
  },
  {
   "cell_type": "code",
   "execution_count": 39,
   "metadata": {},
   "outputs": [
    {
     "name": "stdout",
     "output_type": "stream",
     "text": [
      "The total number of observations in all parks: 3,314,739 views.\n"
     ]
    }
   ],
   "source": [
    "# count all observations\n",
    "print(f\"The total number of observations in all parks: {observations_clean['observations'].sum():,} views.\")"
   ]
  },
  {
   "cell_type": "code",
   "execution_count": 40,
   "metadata": {},
   "outputs": [
    {
     "data": {
      "text/html": [
       "<div>\n",
       "<style scoped>\n",
       "    .dataframe tbody tr th:only-of-type {\n",
       "        vertical-align: middle;\n",
       "    }\n",
       "\n",
       "    .dataframe tbody tr th {\n",
       "        vertical-align: top;\n",
       "    }\n",
       "\n",
       "    .dataframe thead th {\n",
       "        text-align: right;\n",
       "    }\n",
       "</style>\n",
       "<table border=\"1\" class=\"dataframe\">\n",
       "  <thead>\n",
       "    <tr style=\"text-align: right;\">\n",
       "      <th></th>\n",
       "      <th>total_observations</th>\n",
       "    </tr>\n",
       "    <tr>\n",
       "      <th>park_name</th>\n",
       "      <th></th>\n",
       "    </tr>\n",
       "  </thead>\n",
       "  <tbody>\n",
       "    <tr>\n",
       "      <th>Yellowstone National Park</th>\n",
       "      <td>1443562</td>\n",
       "    </tr>\n",
       "    <tr>\n",
       "      <th>Yosemite National Park</th>\n",
       "      <td>863332</td>\n",
       "    </tr>\n",
       "    <tr>\n",
       "      <th>Bryce National Park</th>\n",
       "      <td>576025</td>\n",
       "    </tr>\n",
       "    <tr>\n",
       "      <th>Great Smoky Mountains National Park</th>\n",
       "      <td>431820</td>\n",
       "    </tr>\n",
       "  </tbody>\n",
       "</table>\n",
       "</div>"
      ],
      "text/plain": [
       "                                     total_observations\n",
       "park_name                                              \n",
       "Yellowstone National Park            1443562           \n",
       "Yosemite National Park               863332            \n",
       "Bryce National Park                  576025            \n",
       "Great Smoky Mountains National Park  431820            "
      ]
     },
     "execution_count": 40,
     "metadata": {},
     "output_type": "execute_result"
    }
   ],
   "source": [
    "# counting the number of observations by park\n",
    "observationsByPark = observations_clean.groupby('park_name')['observations'].sum().reset_index().set_index('park_name')\n",
    "# renaming the column for clarity\n",
    "observationsByPark.rename(columns={'observations': 'total_observations'}, inplace=True)\n",
    "observationsByPark.sort_values(by='total_observations', ascending=False, inplace=True)\n",
    "observationsByPark"
   ]
  },
  {
   "cell_type": "code",
   "execution_count": 41,
   "metadata": {},
   "outputs": [
    {
     "data": {
      "image/png": "[encoded data removed]",
      "text/plain": [
       "<Figure size 800x500 with 1 Axes>"
      ]
     },
     "metadata": {},
     "output_type": "display_data"
    }
   ],
   "source": [
    "# creating a bar plot for observations by park\n",
    "plt.figure(figsize=(8, 5), frameon=True)\n",
    "sns.barplot(data=observationsByPark, x='park_name', y='total_observations', hue='park_name', palette='Set2', legend=True)\n",
    "plt.title('Total Observations by Park')\n",
    "plt.xlabel('Park name')\n",
    "plt.xticks([])\n",
    "plt.show()"
   ]
  },
  {
   "cell_type": "code",
   "execution_count": 42,
   "metadata": {},
   "outputs": [
    {
     "data": {
      "text/html": [
       "<div>\n",
       "<style scoped>\n",
       "    .dataframe tbody tr th:only-of-type {\n",
       "        vertical-align: middle;\n",
       "    }\n",
       "\n",
       "    .dataframe tbody tr th {\n",
       "        vertical-align: top;\n",
       "    }\n",
       "\n",
       "    .dataframe thead th {\n",
       "        text-align: right;\n",
       "    }\n",
       "</style>\n",
       "<table border=\"1\" class=\"dataframe\">\n",
       "  <thead>\n",
       "    <tr style=\"text-align: right;\">\n",
       "      <th></th>\n",
       "      <th>scientific_name</th>\n",
       "      <th>park_name</th>\n",
       "      <th>observations</th>\n",
       "      <th>common_names</th>\n",
       "    </tr>\n",
       "  </thead>\n",
       "  <tbody>\n",
       "    <tr>\n",
       "      <th>0</th>\n",
       "      <td>Columba livia</td>\n",
       "      <td>Bryce National Park</td>\n",
       "      <td>339</td>\n",
       "      <td>Rock Dove, Rock Pigeon, Common Pigeon</td>\n",
       "    </tr>\n",
       "    <tr>\n",
       "      <th>1</th>\n",
       "      <td>Streptopelia decaocto</td>\n",
       "      <td>Great Smoky Mountains National Park</td>\n",
       "      <td>256</td>\n",
       "      <td>Eurasian Collared Dove, Eurasian Collared-Dove</td>\n",
       "    </tr>\n",
       "    <tr>\n",
       "      <th>2</th>\n",
       "      <td>Holcus lanatus</td>\n",
       "      <td>Yellowstone National Park</td>\n",
       "      <td>805</td>\n",
       "      <td>Velvetgrass, Yorkshire Fog, Common Velvet Grass, Yorkshire-Fog, Common Velvetgrass</td>\n",
       "    </tr>\n",
       "    <tr>\n",
       "      <th>3</th>\n",
       "      <td>Hypochaeris radicata</td>\n",
       "      <td>Yosemite National Park</td>\n",
       "      <td>505</td>\n",
       "      <td>Hairy Cat's Ear, Spotted Cats-Ear, Gosmore, Frogbit, Common Cat's-Ear, Cat's Ear, False Dandelion, Hairy Cats-Ear, Spotted Cat's-Ear, Spotted Catsear, Hairy Catsear</td>\n",
       "    </tr>\n",
       "  </tbody>\n",
       "</table>\n",
       "</div>"
      ],
      "text/plain": [
       "         scientific_name                            park_name  observations  \\\n",
       "0  Columba livia          Bryce National Park                  339            \n",
       "1  Streptopelia decaocto  Great Smoky Mountains National Park  256            \n",
       "2  Holcus lanatus         Yellowstone National Park            805            \n",
       "3  Hypochaeris radicata   Yosemite National Park               505            \n",
       "\n",
       "                                                                                                                                                           common_names  \n",
       "0  Rock Dove, Rock Pigeon, Common Pigeon                                                                                                                                 \n",
       "1  Eurasian Collared Dove, Eurasian Collared-Dove                                                                                                                        \n",
       "2  Velvetgrass, Yorkshire Fog, Common Velvet Grass, Yorkshire-Fog, Common Velvetgrass                                                                                    \n",
       "3  Hairy Cat's Ear, Spotted Cats-Ear, Gosmore, Frogbit, Common Cat's-Ear, Cat's Ear, False Dandelion, Hairy Cats-Ear, Spotted Cat's-Ear, Spotted Catsear, Hairy Catsear  "
      ]
     },
     "execution_count": 42,
     "metadata": {},
     "output_type": "execute_result"
    }
   ],
   "source": [
    "# most observed species\n",
    "# find the index of the maximum observations for each park\n",
    "idx = observations_clean.groupby('park_name')['observations'].idxmax() \n",
    "# select the rows with the maximum observations\n",
    "mostObservedSpeciesByPark = observations_clean.loc[idx, :].reset_index(drop=True)\n",
    "mostObservedSpeciesByPark.merge(species_clean[['scientific_name', 'common_names']], on='scientific_name', how='left')"
   ]
  },
  {
   "cell_type": "code",
   "execution_count": 43,
   "metadata": {},
   "outputs": [
    {
     "data": {
      "text/html": [
       "<div>\n",
       "<style scoped>\n",
       "    .dataframe tbody tr th:only-of-type {\n",
       "        vertical-align: middle;\n",
       "    }\n",
       "\n",
       "    .dataframe tbody tr th {\n",
       "        vertical-align: top;\n",
       "    }\n",
       "\n",
       "    .dataframe thead th {\n",
       "        text-align: right;\n",
       "    }\n",
       "</style>\n",
       "<table border=\"1\" class=\"dataframe\">\n",
       "  <thead>\n",
       "    <tr style=\"text-align: right;\">\n",
       "      <th></th>\n",
       "      <th>scientific_name</th>\n",
       "      <th>park_name</th>\n",
       "      <th>observations</th>\n",
       "      <th>common_names</th>\n",
       "    </tr>\n",
       "  </thead>\n",
       "  <tbody>\n",
       "    <tr>\n",
       "      <th>0</th>\n",
       "      <td>Corydalis aurea</td>\n",
       "      <td>Bryce National Park</td>\n",
       "      <td>9</td>\n",
       "      <td>Scrambled Eggs, Golden Corydalis</td>\n",
       "    </tr>\n",
       "    <tr>\n",
       "      <th>1</th>\n",
       "      <td>Collomia tinctoria</td>\n",
       "      <td>Great Smoky Mountains National Park</td>\n",
       "      <td>10</td>\n",
       "      <td>Yellowstain Collomia, Staining Collomia</td>\n",
       "    </tr>\n",
       "    <tr>\n",
       "      <th>2</th>\n",
       "      <td>Grus americana</td>\n",
       "      <td>Yellowstone National Park</td>\n",
       "      <td>57</td>\n",
       "      <td>Whooping Crane</td>\n",
       "    </tr>\n",
       "    <tr>\n",
       "      <th>3</th>\n",
       "      <td>Noturus baileyi</td>\n",
       "      <td>Yosemite National Park</td>\n",
       "      <td>31</td>\n",
       "      <td>Smoky Madtom</td>\n",
       "    </tr>\n",
       "  </tbody>\n",
       "</table>\n",
       "</div>"
      ],
      "text/plain": [
       "      scientific_name                            park_name  observations  \\\n",
       "0  Corydalis aurea     Bryce National Park                  9              \n",
       "1  Collomia tinctoria  Great Smoky Mountains National Park  10             \n",
       "2  Grus americana      Yellowstone National Park            57             \n",
       "3  Noturus baileyi     Yosemite National Park               31             \n",
       "\n",
       "                              common_names  \n",
       "0  Scrambled Eggs, Golden Corydalis         \n",
       "1  Yellowstain Collomia, Staining Collomia  \n",
       "2  Whooping Crane                           \n",
       "3  Smoky Madtom                             "
      ]
     },
     "execution_count": 43,
     "metadata": {},
     "output_type": "execute_result"
    }
   ],
   "source": [
    "# least observed species\n",
    "# find the index of the min observations for each park\n",
    "idx = observations_clean.groupby('park_name')['observations'].idxmin() \n",
    "# select the rows with the minimum observations\n",
    "leastObservedSpeciesByPark = observations_clean.loc[idx, :].reset_index(drop=True)\n",
    "# merge with species_clean to get common names\n",
    "leastObservedSpeciesByPark.merge(species_clean[['scientific_name', 'common_names']], on='scientific_name', how='left')"
   ]
  },
  {
   "cell_type": "markdown",
   "metadata": {},
   "source": [
    "### Insights from observations data\n",
    "\n",
    "The observations dataset contains records of species observed in 4 national parks: Great Smoky Mountains, Bryce, Yosemite, Yellowstone.\n",
    "\n",
    "The Yellowstone National Park has the highest number of observations, with a total of 1,443,562. The most observed species is Holcus lanatus with 805 observations. The least observed species is Grus americana with 57 observations.\n",
    "\n",
    "The Great Smoky Mountains National Park has the last number of observations. The total number of observations is 431,820. The Streptopelia decaocto is the most observed species with 256 observations, while the least observed species is Collomia tinctoria with only 10 observations."
   ]
  },
  {
   "cell_type": "markdown",
   "metadata": {},
   "source": [
    "### Analysis: Rate of protection\n",
    "\n",
    "The next question is if certain types of species are more likely to be endangered? This can be answered by creating a new column called `is_protected` and include any species that had a value other than `No Intervention`. "
   ]
  },
  {
   "cell_type": "code",
   "execution_count": null,
   "metadata": {},
   "outputs": [],
   "source": [
    "# create a new column 'is_protected'\n",
    "species_clean['is_protected'] = species_clean['conservation_status'] != 'No Intervention'"
   ]
  },
  {
   "cell_type": "code",
   "execution_count": null,
   "metadata": {},
   "outputs": [
    {
     "data": {
      "text/html": [
       "<div>\n",
       "<style scoped>\n",
       "    .dataframe tbody tr th:only-of-type {\n",
       "        vertical-align: middle;\n",
       "    }\n",
       "\n",
       "    .dataframe tbody tr th {\n",
       "        vertical-align: top;\n",
       "    }\n",
       "\n",
       "    .dataframe thead th {\n",
       "        text-align: right;\n",
       "    }\n",
       "</style>\n",
       "<table border=\"1\" class=\"dataframe\">\n",
       "  <thead>\n",
       "    <tr style=\"text-align: right;\">\n",
       "      <th></th>\n",
       "      <th>category</th>\n",
       "      <th>scientific_name</th>\n",
       "      <th>conservation_status</th>\n",
       "      <th>common_names</th>\n",
       "      <th>is_protected</th>\n",
       "    </tr>\n",
       "  </thead>\n",
       "  <tbody>\n",
       "    <tr>\n",
       "      <th>5819</th>\n",
       "      <td>Vascular Plant</td>\n",
       "      <td>Carex frankii</td>\n",
       "      <td>No Intervention</td>\n",
       "      <td>Frank Sedge, Frank's Sedge</td>\n",
       "      <td>False</td>\n",
       "    </tr>\n",
       "    <tr>\n",
       "      <th>5820</th>\n",
       "      <td>Vascular Plant</td>\n",
       "      <td>Carex flaccosperma</td>\n",
       "      <td>No Intervention</td>\n",
       "      <td>Thinfruit Sedge</td>\n",
       "      <td>False</td>\n",
       "    </tr>\n",
       "    <tr>\n",
       "      <th>5821</th>\n",
       "      <td>Vascular Plant</td>\n",
       "      <td>Carex festucacea</td>\n",
       "      <td>No Intervention</td>\n",
       "      <td>Fescue Sedge</td>\n",
       "      <td>False</td>\n",
       "    </tr>\n",
       "    <tr>\n",
       "      <th>5822</th>\n",
       "      <td>Vascular Plant</td>\n",
       "      <td>Carex eburnea</td>\n",
       "      <td>No Intervention</td>\n",
       "      <td>Ebony Sedge, Black-Fruited Sedge</td>\n",
       "      <td>False</td>\n",
       "    </tr>\n",
       "    <tr>\n",
       "      <th>5823</th>\n",
       "      <td>Vascular Plant</td>\n",
       "      <td>Tribulus terrestris</td>\n",
       "      <td>No Intervention</td>\n",
       "      <td>Puncture Vine, Goathead, Texas Sandbur, Bullhead, Caltrop, Mexican Sandbur</td>\n",
       "      <td>False</td>\n",
       "    </tr>\n",
       "  </tbody>\n",
       "</table>\n",
       "</div>"
      ],
      "text/plain": [
       "            category      scientific_name conservation_status  \\\n",
       "5819  Vascular Plant  Carex frankii        No Intervention      \n",
       "5820  Vascular Plant  Carex flaccosperma   No Intervention      \n",
       "5821  Vascular Plant  Carex festucacea     No Intervention      \n",
       "5822  Vascular Plant  Carex eburnea        No Intervention      \n",
       "5823  Vascular Plant  Tribulus terrestris  No Intervention      \n",
       "\n",
       "                                                                    common_names  \\\n",
       "5819  Frank Sedge, Frank's Sedge                                                   \n",
       "5820  Thinfruit Sedge                                                              \n",
       "5821  Fescue Sedge                                                                 \n",
       "5822  Ebony Sedge, Black-Fruited Sedge                                             \n",
       "5823  Puncture Vine, Goathead, Texas Sandbur, Bullhead, Caltrop, Mexican Sandbur   \n",
       "\n",
       "      is_protected  \n",
       "5819  False         \n",
       "5820  False         \n",
       "5821  False         \n",
       "5822  False         \n",
       "5823  False         "
      ]
     },
     "metadata": {},
     "output_type": "display_data"
    }
   ],
   "source": [
    "species_clean.tail()"
   ]
  },
  {
   "cell_type": "code",
   "execution_count": null,
   "metadata": {},
   "outputs": [
    {
     "data": {
      "text/html": [
       "<div>\n",
       "<style scoped>\n",
       "    .dataframe tbody tr th:only-of-type {\n",
       "        vertical-align: middle;\n",
       "    }\n",
       "\n",
       "    .dataframe tbody tr th {\n",
       "        vertical-align: top;\n",
       "    }\n",
       "\n",
       "    .dataframe thead th {\n",
       "        text-align: right;\n",
       "    }\n",
       "</style>\n",
       "<table border=\"1\" class=\"dataframe\">\n",
       "  <thead>\n",
       "    <tr style=\"text-align: right;\">\n",
       "      <th>is_protected</th>\n",
       "      <th>Category</th>\n",
       "      <th>Not Protected</th>\n",
       "      <th>Protected</th>\n",
       "    </tr>\n",
       "  </thead>\n",
       "  <tbody>\n",
       "    <tr>\n",
       "      <th>0</th>\n",
       "      <td>Amphibian</td>\n",
       "      <td>72</td>\n",
       "      <td>7</td>\n",
       "    </tr>\n",
       "    <tr>\n",
       "      <th>1</th>\n",
       "      <td>Bird</td>\n",
       "      <td>413</td>\n",
       "      <td>75</td>\n",
       "    </tr>\n",
       "    <tr>\n",
       "      <th>2</th>\n",
       "      <td>Fish</td>\n",
       "      <td>114</td>\n",
       "      <td>11</td>\n",
       "    </tr>\n",
       "    <tr>\n",
       "      <th>3</th>\n",
       "      <td>Mammal</td>\n",
       "      <td>146</td>\n",
       "      <td>30</td>\n",
       "    </tr>\n",
       "    <tr>\n",
       "      <th>4</th>\n",
       "      <td>Nonvascular Plant</td>\n",
       "      <td>328</td>\n",
       "      <td>5</td>\n",
       "    </tr>\n",
       "    <tr>\n",
       "      <th>5</th>\n",
       "      <td>Reptile</td>\n",
       "      <td>73</td>\n",
       "      <td>5</td>\n",
       "    </tr>\n",
       "    <tr>\n",
       "      <th>6</th>\n",
       "      <td>Vascular Plant</td>\n",
       "      <td>4216</td>\n",
       "      <td>46</td>\n",
       "    </tr>\n",
       "  </tbody>\n",
       "</table>\n",
       "</div>"
      ],
      "text/plain": [
       "is_protected           Category  Not Protected  Protected\n",
       "0             Amphibian          72             7        \n",
       "1             Bird               413            75       \n",
       "2             Fish               114            11       \n",
       "3             Mammal             146            30       \n",
       "4             Nonvascular Plant  328            5        \n",
       "5             Reptile            73             5        \n",
       "6             Vascular Plant     4216           46       "
      ]
     },
     "metadata": {},
     "output_type": "display_data"
    }
   ],
   "source": [
    "# group by category and is_protected\n",
    "cat_in_protection = species_clean.groupby(['category', 'is_protected']).size().unstack().reset_index()\n",
    "cat_in_protection.rename(columns={'category': 'Category', True: 'Protected', False: 'Not Protected'}, inplace=True)\n",
    "cat_in_protection"
   ]
  },
  {
   "cell_type": "markdown",
   "metadata": {},
   "source": [
    "After adding a new column and grouping, it is clearly seen that in absolute terms, the largest number of species in need of protection is observed in the categories: Birds, Mammals and Vascular Plants. But, absolute numbers are not always the most useful statistic, therefore it's important to calculate the rate of protection that each `category` exhibits in the data."
   ]
  },
  {
   "cell_type": "code",
   "execution_count": null,
   "metadata": {},
   "outputs": [
    {
     "data": {
      "text/html": [
       "<div>\n",
       "<style scoped>\n",
       "    .dataframe tbody tr th:only-of-type {\n",
       "        vertical-align: middle;\n",
       "    }\n",
       "\n",
       "    .dataframe tbody tr th {\n",
       "        vertical-align: top;\n",
       "    }\n",
       "\n",
       "    .dataframe thead th {\n",
       "        text-align: right;\n",
       "    }\n",
       "</style>\n",
       "<table border=\"1\" class=\"dataframe\">\n",
       "  <thead>\n",
       "    <tr style=\"text-align: right;\">\n",
       "      <th>is_protected</th>\n",
       "      <th>Category</th>\n",
       "      <th>Not Protected</th>\n",
       "      <th>Protected</th>\n",
       "      <th>Rate of Protection</th>\n",
       "    </tr>\n",
       "  </thead>\n",
       "  <tbody>\n",
       "    <tr>\n",
       "      <th>0</th>\n",
       "      <td>Amphibian</td>\n",
       "      <td>72</td>\n",
       "      <td>7</td>\n",
       "      <td>8.86</td>\n",
       "    </tr>\n",
       "    <tr>\n",
       "      <th>1</th>\n",
       "      <td>Bird</td>\n",
       "      <td>413</td>\n",
       "      <td>75</td>\n",
       "      <td>15.37</td>\n",
       "    </tr>\n",
       "    <tr>\n",
       "      <th>2</th>\n",
       "      <td>Fish</td>\n",
       "      <td>114</td>\n",
       "      <td>11</td>\n",
       "      <td>8.80</td>\n",
       "    </tr>\n",
       "    <tr>\n",
       "      <th>3</th>\n",
       "      <td>Mammal</td>\n",
       "      <td>146</td>\n",
       "      <td>30</td>\n",
       "      <td>17.05</td>\n",
       "    </tr>\n",
       "    <tr>\n",
       "      <th>4</th>\n",
       "      <td>Nonvascular Plant</td>\n",
       "      <td>328</td>\n",
       "      <td>5</td>\n",
       "      <td>1.50</td>\n",
       "    </tr>\n",
       "    <tr>\n",
       "      <th>5</th>\n",
       "      <td>Reptile</td>\n",
       "      <td>73</td>\n",
       "      <td>5</td>\n",
       "      <td>6.41</td>\n",
       "    </tr>\n",
       "    <tr>\n",
       "      <th>6</th>\n",
       "      <td>Vascular Plant</td>\n",
       "      <td>4216</td>\n",
       "      <td>46</td>\n",
       "      <td>1.08</td>\n",
       "    </tr>\n",
       "  </tbody>\n",
       "</table>\n",
       "</div>"
      ],
      "text/plain": [
       "is_protected           Category  Not Protected  Protected  Rate of Protection\n",
       "0             Amphibian          72             7         8.86               \n",
       "1             Bird               413            75        15.37              \n",
       "2             Fish               114            11        8.80               \n",
       "3             Mammal             146            30        17.05              \n",
       "4             Nonvascular Plant  328            5         1.50               \n",
       "5             Reptile            73             5         6.41               \n",
       "6             Vascular Plant     4216           46        1.08               "
      ]
     },
     "metadata": {},
     "output_type": "display_data"
    }
   ],
   "source": [
    "# add rate of protection\n",
    "cat_in_protection['Rate of Protection'] = cat_in_protection['Protected'] / (cat_in_protection['Not Protected'] + cat_in_protection['Protected']) * 100\n",
    "cat_in_protection"
   ]
  },
  {
   "cell_type": "markdown",
   "metadata": {},
   "source": [
    "And now, we can see, that in relative terms, we can note that the species most in need of protection are mammals. The birds are in second place by a small margin.  And Vascular Plants are in last place."
   ]
  },
  {
   "cell_type": "markdown",
   "metadata": {},
   "source": [
    "### Analysis: Statistical Significance\n",
    "\n",
    "The question of this part is: Are the differences between species and their conservation status significant?\n",
    "\n",
    "To answer this question, we will use some `chi-squared tests` to see if different species have statistically significant differences in conservation status rates.\n",
    "\n",
    "The common way of testing includes next steps:\n",
    "1. Formulate the null and alternative hypotheses.\n",
    "2. Create a contingency table of species vs. conservation status.\n",
    "3. Calculate the chi-squared statistic and p-value.\n",
    "4. Draw conclusions based on the p-value.\n",
    "\n",
    "Let's start for the species: `Amphibians` and `Fish`.\n",
    "\n",
    "The null hypothesis is that: there is no difference between protection levels of this categories.\n",
    "\n",
    "The alternative hypothesis is that: there is a difference between protection levels of this categories.\n",
    "\n",
    "Our contingency table for `Amphibians` and `Fish` is as follows:\n",
    "\n",
    "||protected|not protected|\n",
    "|-|-|-|\n",
    "|Amphibians|7|72|\n",
    "|Fish|11|114|\n"
   ]
  },
  {
   "cell_type": "code",
   "execution_count": 67,
   "metadata": {},
   "outputs": [
    {
     "name": "stdout",
     "output_type": "stream",
     "text": [
      "Chi-squared: 0.0000\n",
      "p-value: 1.00\n",
      "expected frequencies: [[  6.97058824  72.02941176]\n",
      " [ 11.02941176 113.97058824]]\n"
     ]
    }
   ],
   "source": [
    "from scipy.stats import chi2_contingency\n",
    "\n",
    "# running the 1st test named contingency1\n",
    "\n",
    "contingency1 = [[7, 72], \n",
    "                [11, 114]]\n",
    "\n",
    "chi2, pval, dof, expected = chi2_contingency(contingency1)\n",
    "\n",
    "print(f\"Chi-squared: {chi2:.4f}\\np-value: {pval:.2f}\\nexpected frequencies: {expected}\")"
   ]
  },
  {
   "cell_type": "markdown",
   "metadata": {},
   "source": [
    "The standard p-value to test statistical significance is 0.05. For the value retrieved from this test, the value of 1.00 is much larger than 0.05 (it's exactly 100%).\n",
    "\n",
    "There are no statistically significant differences between the groups (Amphibians vs Fish) in the proportion of protected/notProtected."
   ]
  },
  {
   "cell_type": "markdown",
   "metadata": {},
   "source": [
    "Go on with categories: `Mammal` and `Reptile`.\n",
    "\n",
    "The null hypothesis is that: there is no difference between protection levels of this categories.\n",
    "\n",
    "The alternative hypothesis is that: there is a difference between protection levels of this categories.\n",
    "\n",
    "Our contingency table for `Mammal` and `Reptile` is as follows:\n",
    "\n",
    "||protected|not protected|\n",
    "|-|-|-|\n",
    "|Mammal|30|146|\n",
    "|Reptile|5|73|"
   ]
  },
  {
   "cell_type": "code",
   "execution_count": 70,
   "metadata": {},
   "outputs": [
    {
     "name": "stdout",
     "output_type": "stream",
     "text": [
      "Chi-squared: 4.2892\n",
      "p-value: 0.0384\n",
      "expected frequencies: [[ 24.2519685 151.7480315]\n",
      " [ 10.7480315  67.2519685]]\n"
     ]
    }
   ],
   "source": [
    "# running the 2st test named contingency2\n",
    "\n",
    "contingency2 = [[30, 146],\n",
    "                [5, 73]]\n",
    "\n",
    "chi2, pval, dof, expected = chi2_contingency(contingency2)\n",
    "\n",
    "print(f\"Chi-squared: {chi2:.4f}\\np-value: {pval:.4f}\\nexpected frequencies: {expected}\")"
   ]
  },
  {
   "cell_type": "markdown",
   "metadata": {},
   "source": [
    "This time the p-value is 0.0384 which is below the standard threshold of 0.05 which can be take that the difference between `Reptile` and `Mammal` is statistically significant.\n",
    "\n",
    "The proportion of protected mammals is slightly more than 2.5 times higher than the proportion of `Reptiles`.\n",
    "The question is, why is that?\n",
    "`Mammals` really have more problems with species conservation. Or, the `Reptiles` are not sufficiently protected."
   ]
  },
  {
   "cell_type": "markdown",
   "metadata": {},
   "source": [
    "### Merging datasets\n",
    "\n",
    "In this section, we will merge the cleaned observations and species datasets to create a comprehensive dataset for analysis."
   ]
  },
  {
   "cell_type": "code",
   "execution_count": 71,
   "metadata": {},
   "outputs": [],
   "source": [
    "# merging datasets\n",
    "df = pd.merge(observations_clean,\n",
    "              species_clean,\n",
    "              left_on='scientific_name', \n",
    "              right_on='scientific_name',\n",
    "              how='left')"
   ]
  },
  {
   "cell_type": "code",
   "execution_count": 72,
   "metadata": {},
   "outputs": [
    {
     "name": "stdout",
     "output_type": "stream",
     "text": [
      "The shape of the merged dataset is - (22164, 7)\n",
      "\n",
      "<class 'pandas.core.frame.DataFrame'>\n",
      "RangeIndex: 22164 entries, 0 to 22163\n",
      "Data columns (total 7 columns):\n",
      " #   Column               Non-Null Count  Dtype \n",
      "---  ------               --------------  ----- \n",
      " 0   scientific_name      22164 non-null  object\n",
      " 1   park_name            22164 non-null  object\n",
      " 2   observations         22164 non-null  int64 \n",
      " 3   category             22164 non-null  object\n",
      " 4   conservation_status  22164 non-null  object\n",
      " 5   common_names         22164 non-null  object\n",
      " 6   is_protected         22164 non-null  bool  \n",
      "dtypes: bool(1), int64(1), object(5)\n",
      "memory usage: 1.0+ MB\n",
      "None\n"
     ]
    }
   ],
   "source": [
    "print(f\"The shape of the merged dataset is - {df.shape}\")\n",
    "print()\n",
    "print(df.info())"
   ]
  },
  {
   "cell_type": "code",
   "execution_count": 73,
   "metadata": {},
   "outputs": [
    {
     "data": {
      "text/html": [
       "<div>\n",
       "<style scoped>\n",
       "    .dataframe tbody tr th:only-of-type {\n",
       "        vertical-align: middle;\n",
       "    }\n",
       "\n",
       "    .dataframe tbody tr th {\n",
       "        vertical-align: top;\n",
       "    }\n",
       "\n",
       "    .dataframe thead th {\n",
       "        text-align: right;\n",
       "    }\n",
       "</style>\n",
       "<table border=\"1\" class=\"dataframe\">\n",
       "  <thead>\n",
       "    <tr style=\"text-align: right;\">\n",
       "      <th></th>\n",
       "      <th>scientific_name</th>\n",
       "      <th>park_name</th>\n",
       "      <th>observations</th>\n",
       "      <th>category</th>\n",
       "      <th>conservation_status</th>\n",
       "      <th>common_names</th>\n",
       "      <th>is_protected</th>\n",
       "    </tr>\n",
       "  </thead>\n",
       "  <tbody>\n",
       "    <tr>\n",
       "      <th>3221</th>\n",
       "      <td>Canis rufus</td>\n",
       "      <td>Great Smoky Mountains National Park</td>\n",
       "      <td>13</td>\n",
       "      <td>Mammal</td>\n",
       "      <td>Endangered</td>\n",
       "      <td>Red Wolf</td>\n",
       "      <td>True</td>\n",
       "    </tr>\n",
       "    <tr>\n",
       "      <th>5421</th>\n",
       "      <td>Collomia tinctoria</td>\n",
       "      <td>Great Smoky Mountains National Park</td>\n",
       "      <td>10</td>\n",
       "      <td>Vascular Plant</td>\n",
       "      <td>No Intervention</td>\n",
       "      <td>Yellowstain Collomia, Staining Collomia</td>\n",
       "      <td>False</td>\n",
       "    </tr>\n",
       "    <tr>\n",
       "      <th>5660</th>\n",
       "      <td>Corydalis aurea</td>\n",
       "      <td>Bryce National Park</td>\n",
       "      <td>9</td>\n",
       "      <td>Vascular Plant</td>\n",
       "      <td>No Intervention</td>\n",
       "      <td>Scrambled Eggs, Golden Corydalis</td>\n",
       "      <td>False</td>\n",
       "    </tr>\n",
       "    <tr>\n",
       "      <th>9293</th>\n",
       "      <td>Grus americana</td>\n",
       "      <td>Great Smoky Mountains National Park</td>\n",
       "      <td>13</td>\n",
       "      <td>Bird</td>\n",
       "      <td>Endangered</td>\n",
       "      <td>Whooping Crane</td>\n",
       "      <td>True</td>\n",
       "    </tr>\n",
       "    <tr>\n",
       "      <th>12345</th>\n",
       "      <td>Malva moschata</td>\n",
       "      <td>Great Smoky Mountains National Park</td>\n",
       "      <td>14</td>\n",
       "      <td>Vascular Plant</td>\n",
       "      <td>No Intervention</td>\n",
       "      <td>Musk Mallow</td>\n",
       "      <td>False</td>\n",
       "    </tr>\n",
       "    <tr>\n",
       "      <th>13297</th>\n",
       "      <td>Myotis sodalis</td>\n",
       "      <td>Great Smoky Mountains National Park</td>\n",
       "      <td>14</td>\n",
       "      <td>Mammal</td>\n",
       "      <td>Endangered</td>\n",
       "      <td>Indiana Bat, Indiana Or Social Myotis</td>\n",
       "      <td>True</td>\n",
       "    </tr>\n",
       "    <tr>\n",
       "      <th>16989</th>\n",
       "      <td>Rana sierrae</td>\n",
       "      <td>Great Smoky Mountains National Park</td>\n",
       "      <td>11</td>\n",
       "      <td>Amphibian</td>\n",
       "      <td>Endangered</td>\n",
       "      <td>Sierra Nevada Yellow-Legged Frog</td>\n",
       "      <td>True</td>\n",
       "    </tr>\n",
       "    <tr>\n",
       "      <th>18101</th>\n",
       "      <td>Sambucus mexicana</td>\n",
       "      <td>Great Smoky Mountains National Park</td>\n",
       "      <td>12</td>\n",
       "      <td>Vascular Plant</td>\n",
       "      <td>No Intervention</td>\n",
       "      <td>Mexican Elder</td>\n",
       "      <td>False</td>\n",
       "    </tr>\n",
       "    <tr>\n",
       "      <th>18617</th>\n",
       "      <td>Seiurus aurocapilla</td>\n",
       "      <td>Great Smoky Mountains National Park</td>\n",
       "      <td>13</td>\n",
       "      <td>Bird</td>\n",
       "      <td>No Intervention</td>\n",
       "      <td>Ovenbird</td>\n",
       "      <td>False</td>\n",
       "    </tr>\n",
       "    <tr>\n",
       "      <th>20001</th>\n",
       "      <td>Strix occidentalis</td>\n",
       "      <td>Great Smoky Mountains National Park</td>\n",
       "      <td>11</td>\n",
       "      <td>Bird</td>\n",
       "      <td>No Intervention</td>\n",
       "      <td>Spotted Owl</td>\n",
       "      <td>False</td>\n",
       "    </tr>\n",
       "  </tbody>\n",
       "</table>\n",
       "</div>"
      ],
      "text/plain": [
       "           scientific_name                            park_name  observations  \\\n",
       "3221   Canis rufus          Great Smoky Mountains National Park  13             \n",
       "5421   Collomia tinctoria   Great Smoky Mountains National Park  10             \n",
       "5660   Corydalis aurea      Bryce National Park                  9              \n",
       "9293   Grus americana       Great Smoky Mountains National Park  13             \n",
       "12345  Malva moschata       Great Smoky Mountains National Park  14             \n",
       "13297  Myotis sodalis       Great Smoky Mountains National Park  14             \n",
       "16989  Rana sierrae         Great Smoky Mountains National Park  11             \n",
       "18101  Sambucus mexicana    Great Smoky Mountains National Park  12             \n",
       "18617  Seiurus aurocapilla  Great Smoky Mountains National Park  13             \n",
       "20001  Strix occidentalis   Great Smoky Mountains National Park  11             \n",
       "\n",
       "             category conservation_status  \\\n",
       "3221   Mammal          Endangered           \n",
       "5421   Vascular Plant  No Intervention      \n",
       "5660   Vascular Plant  No Intervention      \n",
       "9293   Bird            Endangered           \n",
       "12345  Vascular Plant  No Intervention      \n",
       "13297  Mammal          Endangered           \n",
       "16989  Amphibian       Endangered           \n",
       "18101  Vascular Plant  No Intervention      \n",
       "18617  Bird            No Intervention      \n",
       "20001  Bird            No Intervention      \n",
       "\n",
       "                                  common_names  is_protected  \n",
       "3221   Red Wolf                                 True          \n",
       "5421   Yellowstain Collomia, Staining Collomia  False         \n",
       "5660   Scrambled Eggs, Golden Corydalis         False         \n",
       "9293   Whooping Crane                           True          \n",
       "12345  Musk Mallow                              False         \n",
       "13297  Indiana Bat, Indiana Or Social Myotis    True          \n",
       "16989  Sierra Nevada Yellow-Legged Frog         True          \n",
       "18101  Mexican Elder                            False         \n",
       "18617  Ovenbird                                 False         \n",
       "20001  Spotted Owl                              False         "
      ]
     },
     "execution_count": 73,
     "metadata": {},
     "output_type": "execute_result"
    }
   ],
   "source": [
    "# filling null values in the 'observations' column with 0\n",
    "df['observations'] = df['observations'].fillna(0)\n",
    "# filtering by count observations\n",
    "filtObservations = df['observations'] < 15\n",
    "df.loc[filtObservations, :]"
   ]
  },
  {
   "cell_type": "code",
   "execution_count": 74,
   "metadata": {},
   "outputs": [
    {
     "data": {
      "text/html": [
       "<div>\n",
       "<style scoped>\n",
       "    .dataframe tbody tr th:only-of-type {\n",
       "        vertical-align: middle;\n",
       "    }\n",
       "\n",
       "    .dataframe tbody tr th {\n",
       "        vertical-align: top;\n",
       "    }\n",
       "\n",
       "    .dataframe thead th {\n",
       "        text-align: right;\n",
       "    }\n",
       "</style>\n",
       "<table border=\"1\" class=\"dataframe\">\n",
       "  <thead>\n",
       "    <tr style=\"text-align: right;\">\n",
       "      <th></th>\n",
       "      <th>sum</th>\n",
       "      <th>mean</th>\n",
       "      <th>min</th>\n",
       "      <th>max</th>\n",
       "    </tr>\n",
       "    <tr>\n",
       "      <th>park_name</th>\n",
       "      <th></th>\n",
       "      <th></th>\n",
       "      <th></th>\n",
       "      <th></th>\n",
       "    </tr>\n",
       "  </thead>\n",
       "  <tbody>\n",
       "    <tr>\n",
       "      <th>Bryce National Park</th>\n",
       "      <td>576025</td>\n",
       "      <td>103.96</td>\n",
       "      <td>9</td>\n",
       "      <td>339</td>\n",
       "    </tr>\n",
       "    <tr>\n",
       "      <th>Great Smoky Mountains National Park</th>\n",
       "      <td>431820</td>\n",
       "      <td>77.93</td>\n",
       "      <td>10</td>\n",
       "      <td>256</td>\n",
       "    </tr>\n",
       "    <tr>\n",
       "      <th>Yellowstone National Park</th>\n",
       "      <td>1443562</td>\n",
       "      <td>260.52</td>\n",
       "      <td>57</td>\n",
       "      <td>805</td>\n",
       "    </tr>\n",
       "    <tr>\n",
       "      <th>Yosemite National Park</th>\n",
       "      <td>863332</td>\n",
       "      <td>155.81</td>\n",
       "      <td>31</td>\n",
       "      <td>505</td>\n",
       "    </tr>\n",
       "  </tbody>\n",
       "</table>\n",
       "</div>"
      ],
      "text/plain": [
       "                                         sum   mean  min  max\n",
       "park_name                                                    \n",
       "Bryce National Park                  576025  103.96  9    339\n",
       "Great Smoky Mountains National Park  431820  77.93   10   256\n",
       "Yellowstone National Park            1443562 260.52  57   805\n",
       "Yosemite National Park               863332  155.81  31   505"
      ]
     },
     "execution_count": 74,
     "metadata": {},
     "output_type": "execute_result"
    }
   ],
   "source": [
    "# agregation information about observations by park\n",
    "df.groupby(['park_name'])['observations'].agg(['sum', 'mean', 'min', 'max'])"
   ]
  },
  {
   "cell_type": "code",
   "execution_count": 76,
   "metadata": {},
   "outputs": [
    {
     "data": {
      "text/plain": [
       "(716, 7)"
      ]
     },
     "execution_count": 76,
     "metadata": {},
     "output_type": "execute_result"
    }
   ],
   "source": [
    "# creating a dataframe with conservation status species\n",
    "conservation_species = df.loc[df['conservation_status'] !='No Intervention', :]\n",
    "conservation_species.shape"
   ]
  },
  {
   "cell_type": "code",
   "execution_count": 78,
   "metadata": {},
   "outputs": [
    {
     "data": {
      "text/html": [
       "<div>\n",
       "<style scoped>\n",
       "    .dataframe tbody tr th:only-of-type {\n",
       "        vertical-align: middle;\n",
       "    }\n",
       "\n",
       "    .dataframe tbody tr th {\n",
       "        vertical-align: top;\n",
       "    }\n",
       "\n",
       "    .dataframe thead th {\n",
       "        text-align: right;\n",
       "    }\n",
       "</style>\n",
       "<table border=\"1\" class=\"dataframe\">\n",
       "  <thead>\n",
       "    <tr style=\"text-align: right;\">\n",
       "      <th></th>\n",
       "      <th>scientific_name</th>\n",
       "      <th>park_name</th>\n",
       "      <th>observations</th>\n",
       "      <th>category</th>\n",
       "      <th>conservation_status</th>\n",
       "      <th>common_names</th>\n",
       "      <th>is_protected</th>\n",
       "    </tr>\n",
       "  </thead>\n",
       "  <tbody>\n",
       "    <tr>\n",
       "      <th>21979</th>\n",
       "      <td>Wilsonia pusilla</td>\n",
       "      <td>Yosemite National Park</td>\n",
       "      <td>118</td>\n",
       "      <td>Bird</td>\n",
       "      <td>Species of Concern</td>\n",
       "      <td>Wilson's Warbler</td>\n",
       "      <td>True</td>\n",
       "    </tr>\n",
       "    <tr>\n",
       "      <th>22128</th>\n",
       "      <td>Zizia trifoliata</td>\n",
       "      <td>Bryce National Park</td>\n",
       "      <td>87</td>\n",
       "      <td>Vascular Plant</td>\n",
       "      <td>Species of Concern</td>\n",
       "      <td>Meadow Alexanders, Three-Leaved Golden Alexanders</td>\n",
       "      <td>True</td>\n",
       "    </tr>\n",
       "    <tr>\n",
       "      <th>22129</th>\n",
       "      <td>Zizia trifoliata</td>\n",
       "      <td>Great Smoky Mountains National Park</td>\n",
       "      <td>80</td>\n",
       "      <td>Vascular Plant</td>\n",
       "      <td>Species of Concern</td>\n",
       "      <td>Meadow Alexanders, Three-Leaved Golden Alexanders</td>\n",
       "      <td>True</td>\n",
       "    </tr>\n",
       "    <tr>\n",
       "      <th>22130</th>\n",
       "      <td>Zizia trifoliata</td>\n",
       "      <td>Yellowstone National Park</td>\n",
       "      <td>238</td>\n",
       "      <td>Vascular Plant</td>\n",
       "      <td>Species of Concern</td>\n",
       "      <td>Meadow Alexanders, Three-Leaved Golden Alexanders</td>\n",
       "      <td>True</td>\n",
       "    </tr>\n",
       "    <tr>\n",
       "      <th>22131</th>\n",
       "      <td>Zizia trifoliata</td>\n",
       "      <td>Yosemite National Park</td>\n",
       "      <td>135</td>\n",
       "      <td>Vascular Plant</td>\n",
       "      <td>Species of Concern</td>\n",
       "      <td>Meadow Alexanders, Three-Leaved Golden Alexanders</td>\n",
       "      <td>True</td>\n",
       "    </tr>\n",
       "  </tbody>\n",
       "</table>\n",
       "</div>"
      ],
      "text/plain": [
       "        scientific_name                            park_name  observations  \\\n",
       "21979  Wilsonia pusilla  Yosemite National Park               118            \n",
       "22128  Zizia trifoliata  Bryce National Park                  87             \n",
       "22129  Zizia trifoliata  Great Smoky Mountains National Park  80             \n",
       "22130  Zizia trifoliata  Yellowstone National Park            238            \n",
       "22131  Zizia trifoliata  Yosemite National Park               135            \n",
       "\n",
       "             category conservation_status  \\\n",
       "21979  Bird            Species of Concern   \n",
       "22128  Vascular Plant  Species of Concern   \n",
       "22129  Vascular Plant  Species of Concern   \n",
       "22130  Vascular Plant  Species of Concern   \n",
       "22131  Vascular Plant  Species of Concern   \n",
       "\n",
       "                                            common_names  is_protected  \n",
       "21979  Wilson's Warbler                                   True          \n",
       "22128  Meadow Alexanders, Three-Leaved Golden Alexanders  True          \n",
       "22129  Meadow Alexanders, Three-Leaved Golden Alexanders  True          \n",
       "22130  Meadow Alexanders, Three-Leaved Golden Alexanders  True          \n",
       "22131  Meadow Alexanders, Three-Leaved Golden Alexanders  True          "
      ]
     },
     "execution_count": 78,
     "metadata": {},
     "output_type": "execute_result"
    }
   ],
   "source": [
    "conservation_species.tail()"
   ]
  },
  {
   "cell_type": "code",
   "execution_count": 79,
   "metadata": {},
   "outputs": [
    {
     "data": {
      "text/html": [
       "<div>\n",
       "<style scoped>\n",
       "    .dataframe tbody tr th:only-of-type {\n",
       "        vertical-align: middle;\n",
       "    }\n",
       "\n",
       "    .dataframe tbody tr th {\n",
       "        vertical-align: top;\n",
       "    }\n",
       "\n",
       "    .dataframe thead tr th {\n",
       "        text-align: left;\n",
       "    }\n",
       "\n",
       "    .dataframe thead tr:last-of-type th {\n",
       "        text-align: right;\n",
       "    }\n",
       "</style>\n",
       "<table border=\"1\" class=\"dataframe\">\n",
       "  <thead>\n",
       "    <tr>\n",
       "      <th></th>\n",
       "      <th colspan=\"7\" halign=\"left\">observations</th>\n",
       "    </tr>\n",
       "    <tr>\n",
       "      <th>category</th>\n",
       "      <th>Amphibian</th>\n",
       "      <th>Bird</th>\n",
       "      <th>Fish</th>\n",
       "      <th>Mammal</th>\n",
       "      <th>Nonvascular Plant</th>\n",
       "      <th>Reptile</th>\n",
       "      <th>Vascular Plant</th>\n",
       "    </tr>\n",
       "    <tr>\n",
       "      <th>park_name</th>\n",
       "      <th></th>\n",
       "      <th></th>\n",
       "      <th></th>\n",
       "      <th></th>\n",
       "      <th></th>\n",
       "      <th></th>\n",
       "      <th></th>\n",
       "    </tr>\n",
       "  </thead>\n",
       "  <tbody>\n",
       "    <tr>\n",
       "      <th>Bryce National Park</th>\n",
       "      <td>498</td>\n",
       "      <td>6926</td>\n",
       "      <td>731</td>\n",
       "      <td>3037</td>\n",
       "      <td>486</td>\n",
       "      <td>387</td>\n",
       "      <td>4198</td>\n",
       "    </tr>\n",
       "    <tr>\n",
       "      <th>Great Smoky Mountains National Park</th>\n",
       "      <td>333</td>\n",
       "      <td>4741</td>\n",
       "      <td>547</td>\n",
       "      <td>1968</td>\n",
       "      <td>373</td>\n",
       "      <td>365</td>\n",
       "      <td>2950</td>\n",
       "    </tr>\n",
       "    <tr>\n",
       "      <th>Yellowstone National Park</th>\n",
       "      <td>1167</td>\n",
       "      <td>16788</td>\n",
       "      <td>1875</td>\n",
       "      <td>7220</td>\n",
       "      <td>1169</td>\n",
       "      <td>1100</td>\n",
       "      <td>9716</td>\n",
       "    </tr>\n",
       "    <tr>\n",
       "      <th>Yosemite National Park</th>\n",
       "      <td>754</td>\n",
       "      <td>10153</td>\n",
       "      <td>1056</td>\n",
       "      <td>4224</td>\n",
       "      <td>677</td>\n",
       "      <td>684</td>\n",
       "      <td>5985</td>\n",
       "    </tr>\n",
       "  </tbody>\n",
       "</table>\n",
       "</div>"
      ],
      "text/plain": [
       "                                    observations                      \\\n",
       "category                               Amphibian   Bird  Fish Mammal   \n",
       "park_name                                                              \n",
       "Bryce National Park                  498          6926   731   3037    \n",
       "Great Smoky Mountains National Park  333          4741   547   1968    \n",
       "Yellowstone National Park            1167         16788  1875  7220    \n",
       "Yosemite National Park               754          10153  1056  4224    \n",
       "\n",
       "                                                                              \n",
       "category                            Nonvascular Plant Reptile Vascular Plant  \n",
       "park_name                                                                     \n",
       "Bryce National Park                  486               387     4198           \n",
       "Great Smoky Mountains National Park  373               365     2950           \n",
       "Yellowstone National Park            1169              1100    9716           \n",
       "Yosemite National Park               677               684     5985           "
      ]
     },
     "execution_count": 79,
     "metadata": {},
     "output_type": "execute_result"
    }
   ],
   "source": [
    "# group by park_name and category and sum observations\n",
    "observations_conservation_species = conservation_species.groupby(['park_name', 'category'])[['observations']] \\\n",
    "    .sum() \\\n",
    "    .unstack() \\\n",
    "    .fillna(0) \\\n",
    "    .astype(int)\n",
    "observations_conservation_species"
   ]
  },
  {
   "cell_type": "code",
   "execution_count": 80,
   "metadata": {},
   "outputs": [
    {
     "data": {
      "image/png": "[encoded data removed]",
      "text/plain": [
       "<Figure size 800x500 with 1 Axes>"
      ]
     },
     "metadata": {},
     "output_type": "display_data"
    }
   ],
   "source": [
    "# creating stacked bar plot for number of each category observations by park\n",
    "observations_conservation_species.plot(kind='bar', stacked=True, figsize=(8, 5))\n",
    "plt.title('Observations of Conservation Species by Park')\n",
    "plt.xlabel('Park Name')\n",
    "plt.ylabel('Number of observations')\n",
    "plt.xticks(range(4), ['Bryce', 'GS Mountains', 'Yellowstone', 'Yosemite'])\n",
    "plt.show()"
   ]
  },
  {
   "cell_type": "code",
   "execution_count": 81,
   "metadata": {},
   "outputs": [
    {
     "data": {
      "text/html": [
       "<div>\n",
       "<style scoped>\n",
       "    .dataframe tbody tr th:only-of-type {\n",
       "        vertical-align: middle;\n",
       "    }\n",
       "\n",
       "    .dataframe tbody tr th {\n",
       "        vertical-align: top;\n",
       "    }\n",
       "\n",
       "    .dataframe thead th {\n",
       "        text-align: right;\n",
       "    }\n",
       "</style>\n",
       "<table border=\"1\" class=\"dataframe\">\n",
       "  <thead>\n",
       "    <tr style=\"text-align: right;\">\n",
       "      <th>conservation_status</th>\n",
       "      <th>Endangered</th>\n",
       "      <th>In Recovery</th>\n",
       "      <th>Species of Concern</th>\n",
       "      <th>Threatened</th>\n",
       "    </tr>\n",
       "    <tr>\n",
       "      <th>park_name</th>\n",
       "      <th></th>\n",
       "      <th></th>\n",
       "      <th></th>\n",
       "      <th></th>\n",
       "    </tr>\n",
       "  </thead>\n",
       "  <tbody>\n",
       "    <tr>\n",
       "      <th>Bryce National Park</th>\n",
       "      <td>489</td>\n",
       "      <td>258</td>\n",
       "      <td>14925</td>\n",
       "      <td>591</td>\n",
       "    </tr>\n",
       "    <tr>\n",
       "      <th>Great Smoky Mountains National Park</th>\n",
       "      <td>334</td>\n",
       "      <td>189</td>\n",
       "      <td>10314</td>\n",
       "      <td>440</td>\n",
       "    </tr>\n",
       "    <tr>\n",
       "      <th>Yellowstone National Park</th>\n",
       "      <td>1228</td>\n",
       "      <td>559</td>\n",
       "      <td>35789</td>\n",
       "      <td>1459</td>\n",
       "    </tr>\n",
       "    <tr>\n",
       "      <th>Yosemite National Park</th>\n",
       "      <td>747</td>\n",
       "      <td>386</td>\n",
       "      <td>21551</td>\n",
       "      <td>849</td>\n",
       "    </tr>\n",
       "  </tbody>\n",
       "</table>\n",
       "</div>"
      ],
      "text/plain": [
       "conservation_status                  Endangered  In Recovery  \\\n",
       "park_name                                                      \n",
       "Bryce National Park                  489         258           \n",
       "Great Smoky Mountains National Park  334         189           \n",
       "Yellowstone National Park            1228        559           \n",
       "Yosemite National Park               747         386           \n",
       "\n",
       "conservation_status                  Species of Concern  Threatened  \n",
       "park_name                                                            \n",
       "Bryce National Park                  14925               591         \n",
       "Great Smoky Mountains National Park  10314               440         \n",
       "Yellowstone National Park            35789               1459        \n",
       "Yosemite National Park               21551               849         "
      ]
     },
     "execution_count": 81,
     "metadata": {},
     "output_type": "execute_result"
    }
   ],
   "source": [
    "# creating the dataframe for conservation species group by park and count of observations\n",
    "conservation_species_by_park = conservation_species.groupby(['park_name', 'conservation_status'])['observations'] \\\n",
    "    .sum() \\\n",
    "    .unstack() \\\n",
    "    .fillna(0) \\\n",
    "    .astype(int)\n",
    "\n",
    "conservation_species_by_park"
   ]
  },
  {
   "cell_type": "code",
   "execution_count": 82,
   "metadata": {},
   "outputs": [
    {
     "data": {
      "image/png": "[encoded data removed]",
      "text/plain": [
       "<Figure size 800x500 with 1 Axes>"
      ]
     },
     "metadata": {},
     "output_type": "display_data"
    }
   ],
   "source": [
    "# creating stacked bar plot for conservation status by park\n",
    "conservation_species_by_park.plot(kind='bar', stacked=True, figsize=(8, 5))\n",
    "plt.title('Conservation Status by Park')\n",
    "plt.xlabel('Park Name')\n",
    "plt.ylabel('Number of observations')\n",
    "plt.xticks(range(4), ['Bryce', 'GS Mountains', 'Yellowstone', 'Yosemite'])\n",
    "plt.show()"
   ]
  },
  {
   "cell_type": "markdown",
   "metadata": {},
   "source": [
    "### Most prevalent species in the Parks\n",
    "\n",
    "In this part of the analysis, we will consider the issue: Which animal is most prevalent and what is their distribution amongst parks?"
   ]
  },
  {
   "cell_type": "code",
   "execution_count": 84,
   "metadata": {},
   "outputs": [
    {
     "data": {
      "text/html": [
       "<div>\n",
       "<style scoped>\n",
       "    .dataframe tbody tr th:only-of-type {\n",
       "        vertical-align: middle;\n",
       "    }\n",
       "\n",
       "    .dataframe tbody tr th {\n",
       "        vertical-align: top;\n",
       "    }\n",
       "\n",
       "    .dataframe thead th {\n",
       "        text-align: right;\n",
       "    }\n",
       "</style>\n",
       "<table border=\"1\" class=\"dataframe\">\n",
       "  <thead>\n",
       "    <tr style=\"text-align: right;\">\n",
       "      <th></th>\n",
       "      <th>scientific_name</th>\n",
       "      <th>park_name</th>\n",
       "      <th>observations</th>\n",
       "      <th>category</th>\n",
       "      <th>conservation_status</th>\n",
       "      <th>common_names</th>\n",
       "      <th>is_protected</th>\n",
       "    </tr>\n",
       "  </thead>\n",
       "  <tbody>\n",
       "    <tr>\n",
       "      <th>0</th>\n",
       "      <td>Abies bifolia</td>\n",
       "      <td>Bryce National Park</td>\n",
       "      <td>109</td>\n",
       "      <td>Vascular Plant</td>\n",
       "      <td>No Intervention</td>\n",
       "      <td>Rocky Mountain Alpine Fir</td>\n",
       "      <td>False</td>\n",
       "    </tr>\n",
       "    <tr>\n",
       "      <th>1</th>\n",
       "      <td>Abies bifolia</td>\n",
       "      <td>Great Smoky Mountains National Park</td>\n",
       "      <td>72</td>\n",
       "      <td>Vascular Plant</td>\n",
       "      <td>No Intervention</td>\n",
       "      <td>Rocky Mountain Alpine Fir</td>\n",
       "      <td>False</td>\n",
       "    </tr>\n",
       "    <tr>\n",
       "      <th>2</th>\n",
       "      <td>Abies bifolia</td>\n",
       "      <td>Yellowstone National Park</td>\n",
       "      <td>215</td>\n",
       "      <td>Vascular Plant</td>\n",
       "      <td>No Intervention</td>\n",
       "      <td>Rocky Mountain Alpine Fir</td>\n",
       "      <td>False</td>\n",
       "    </tr>\n",
       "    <tr>\n",
       "      <th>3</th>\n",
       "      <td>Abies bifolia</td>\n",
       "      <td>Yosemite National Park</td>\n",
       "      <td>136</td>\n",
       "      <td>Vascular Plant</td>\n",
       "      <td>No Intervention</td>\n",
       "      <td>Rocky Mountain Alpine Fir</td>\n",
       "      <td>False</td>\n",
       "    </tr>\n",
       "    <tr>\n",
       "      <th>4</th>\n",
       "      <td>Abies concolor</td>\n",
       "      <td>Bryce National Park</td>\n",
       "      <td>83</td>\n",
       "      <td>Vascular Plant</td>\n",
       "      <td>No Intervention</td>\n",
       "      <td>Balsam Fir, White Balsam, Colorado Fir, White Fir, Concolor Fir, Silver Fir</td>\n",
       "      <td>False</td>\n",
       "    </tr>\n",
       "    <tr>\n",
       "      <th>5</th>\n",
       "      <td>Abies concolor</td>\n",
       "      <td>Great Smoky Mountains National Park</td>\n",
       "      <td>101</td>\n",
       "      <td>Vascular Plant</td>\n",
       "      <td>No Intervention</td>\n",
       "      <td>Balsam Fir, White Balsam, Colorado Fir, White Fir, Concolor Fir, Silver Fir</td>\n",
       "      <td>False</td>\n",
       "    </tr>\n",
       "    <tr>\n",
       "      <th>6</th>\n",
       "      <td>Abies concolor</td>\n",
       "      <td>Yellowstone National Park</td>\n",
       "      <td>241</td>\n",
       "      <td>Vascular Plant</td>\n",
       "      <td>No Intervention</td>\n",
       "      <td>Balsam Fir, White Balsam, Colorado Fir, White Fir, Concolor Fir, Silver Fir</td>\n",
       "      <td>False</td>\n",
       "    </tr>\n",
       "    <tr>\n",
       "      <th>7</th>\n",
       "      <td>Abies concolor</td>\n",
       "      <td>Yosemite National Park</td>\n",
       "      <td>205</td>\n",
       "      <td>Vascular Plant</td>\n",
       "      <td>No Intervention</td>\n",
       "      <td>Balsam Fir, White Balsam, Colorado Fir, White Fir, Concolor Fir, Silver Fir</td>\n",
       "      <td>False</td>\n",
       "    </tr>\n",
       "    <tr>\n",
       "      <th>8</th>\n",
       "      <td>Abies fraseri</td>\n",
       "      <td>Bryce National Park</td>\n",
       "      <td>109</td>\n",
       "      <td>Vascular Plant</td>\n",
       "      <td>Species of Concern</td>\n",
       "      <td>Fraser Fir</td>\n",
       "      <td>True</td>\n",
       "    </tr>\n",
       "    <tr>\n",
       "      <th>9</th>\n",
       "      <td>Abies fraseri</td>\n",
       "      <td>Great Smoky Mountains National Park</td>\n",
       "      <td>81</td>\n",
       "      <td>Vascular Plant</td>\n",
       "      <td>Species of Concern</td>\n",
       "      <td>Fraser Fir</td>\n",
       "      <td>True</td>\n",
       "    </tr>\n",
       "  </tbody>\n",
       "</table>\n",
       "</div>"
      ],
      "text/plain": [
       "  scientific_name                            park_name  observations  \\\n",
       "0  Abies bifolia   Bryce National Park                  109            \n",
       "1  Abies bifolia   Great Smoky Mountains National Park  72             \n",
       "2  Abies bifolia   Yellowstone National Park            215            \n",
       "3  Abies bifolia   Yosemite National Park               136            \n",
       "4  Abies concolor  Bryce National Park                  83             \n",
       "5  Abies concolor  Great Smoky Mountains National Park  101            \n",
       "6  Abies concolor  Yellowstone National Park            241            \n",
       "7  Abies concolor  Yosemite National Park               205            \n",
       "8  Abies fraseri   Bryce National Park                  109            \n",
       "9  Abies fraseri   Great Smoky Mountains National Park  81             \n",
       "\n",
       "         category conservation_status  \\\n",
       "0  Vascular Plant  No Intervention      \n",
       "1  Vascular Plant  No Intervention      \n",
       "2  Vascular Plant  No Intervention      \n",
       "3  Vascular Plant  No Intervention      \n",
       "4  Vascular Plant  No Intervention      \n",
       "5  Vascular Plant  No Intervention      \n",
       "6  Vascular Plant  No Intervention      \n",
       "7  Vascular Plant  No Intervention      \n",
       "8  Vascular Plant  Species of Concern   \n",
       "9  Vascular Plant  Species of Concern   \n",
       "\n",
       "                                                                  common_names  \\\n",
       "0  Rocky Mountain Alpine Fir                                                     \n",
       "1  Rocky Mountain Alpine Fir                                                     \n",
       "2  Rocky Mountain Alpine Fir                                                     \n",
       "3  Rocky Mountain Alpine Fir                                                     \n",
       "4  Balsam Fir, White Balsam, Colorado Fir, White Fir, Concolor Fir, Silver Fir   \n",
       "5  Balsam Fir, White Balsam, Colorado Fir, White Fir, Concolor Fir, Silver Fir   \n",
       "6  Balsam Fir, White Balsam, Colorado Fir, White Fir, Concolor Fir, Silver Fir   \n",
       "7  Balsam Fir, White Balsam, Colorado Fir, White Fir, Concolor Fir, Silver Fir   \n",
       "8  Fraser Fir                                                                    \n",
       "9  Fraser Fir                                                                    \n",
       "\n",
       "   is_protected  \n",
       "0  False         \n",
       "1  False         \n",
       "2  False         \n",
       "3  False         \n",
       "4  False         \n",
       "5  False         \n",
       "6  False         \n",
       "7  False         \n",
       "8  True          \n",
       "9  True          "
      ]
     },
     "execution_count": 84,
     "metadata": {},
     "output_type": "execute_result"
    }
   ],
   "source": [
    "df.head(10)"
   ]
  },
  {
   "cell_type": "code",
   "execution_count": 152,
   "metadata": {},
   "outputs": [
    {
     "data": {
      "text/html": [
       "<div>\n",
       "<style scoped>\n",
       "    .dataframe tbody tr th:only-of-type {\n",
       "        vertical-align: middle;\n",
       "    }\n",
       "\n",
       "    .dataframe tbody tr th {\n",
       "        vertical-align: top;\n",
       "    }\n",
       "\n",
       "    .dataframe thead th {\n",
       "        text-align: right;\n",
       "    }\n",
       "</style>\n",
       "<table border=\"1\" class=\"dataframe\">\n",
       "  <thead>\n",
       "    <tr style=\"text-align: right;\">\n",
       "      <th></th>\n",
       "      <th>category</th>\n",
       "      <th>scientific_name</th>\n",
       "      <th>conservation_status</th>\n",
       "      <th>common_names</th>\n",
       "      <th>is_protected</th>\n",
       "    </tr>\n",
       "  </thead>\n",
       "  <tbody>\n",
       "    <tr>\n",
       "      <th>0</th>\n",
       "      <td>Mammal</td>\n",
       "      <td>Canis lupus</td>\n",
       "      <td>Endangered</td>\n",
       "      <td>Wolf, Gray Wolf</td>\n",
       "      <td>True</td>\n",
       "    </tr>\n",
       "    <tr>\n",
       "      <th>1</th>\n",
       "      <td>Mammal</td>\n",
       "      <td>Ovis canadensis sierrae</td>\n",
       "      <td>Endangered</td>\n",
       "      <td>Sierra Nevada Bighorn Sheep</td>\n",
       "      <td>True</td>\n",
       "    </tr>\n",
       "    <tr>\n",
       "      <th>2</th>\n",
       "      <td>Amphibian</td>\n",
       "      <td>Rana sierrae</td>\n",
       "      <td>Endangered</td>\n",
       "      <td>Sierra Nevada Yellow-Legged Frog</td>\n",
       "      <td>True</td>\n",
       "    </tr>\n",
       "    <tr>\n",
       "      <th>3</th>\n",
       "      <td>Bird</td>\n",
       "      <td>Gymnogyps californianus</td>\n",
       "      <td>Endangered</td>\n",
       "      <td>California Condor</td>\n",
       "      <td>True</td>\n",
       "    </tr>\n",
       "    <tr>\n",
       "      <th>4</th>\n",
       "      <td>Bird</td>\n",
       "      <td>Picoides borealis</td>\n",
       "      <td>Endangered</td>\n",
       "      <td>Red-Cockaded Woodpecker</td>\n",
       "      <td>True</td>\n",
       "    </tr>\n",
       "  </tbody>\n",
       "</table>\n",
       "</div>"
      ],
      "text/plain": [
       "    category          scientific_name conservation_status  \\\n",
       "0  Mammal     Canis lupus              Endangered           \n",
       "1  Mammal     Ovis canadensis sierrae  Endangered           \n",
       "2  Amphibian  Rana sierrae             Endangered           \n",
       "3  Bird       Gymnogyps californianus  Endangered           \n",
       "4  Bird       Picoides borealis        Endangered           \n",
       "\n",
       "                       common_names  is_protected  \n",
       "0  Wolf, Gray Wolf                   True          \n",
       "1  Sierra Nevada Bighorn Sheep       True          \n",
       "2  Sierra Nevada Yellow-Legged Frog  True          \n",
       "3  California Condor                 True          \n",
       "4  Red-Cockaded Woodpecker           True          "
      ]
     },
     "execution_count": 152,
     "metadata": {},
     "output_type": "execute_result"
    }
   ],
   "source": [
    "common_name = \"Wolf, Gray Wolf\"\n",
    "filt_animals = (species_clean['category'] != 'Vascular Plant') & (species_clean['category'] != 'Nonvascular Plant')\n",
    "animals = species_clean.loc[filt_animals, :]\n",
    "animals.head()"
   ]
  },
  {
   "cell_type": "code",
   "execution_count": 153,
   "metadata": {},
   "outputs": [
    {
     "name": "stdout",
     "output_type": "stream",
     "text": [
      "['Wolf,', 'Gray', 'Wolf']\n",
      "['Wolf', 'Gray', 'Wolf']\n",
      "['Gray', 'Wolf']\n"
     ]
    }
   ],
   "source": [
    "print(common_name.split())\n",
    "print(remove_punctuation(common_name).split())\n",
    "print(list(set(remove_punctuation(common_name).split())))"
   ]
  },
  {
   "cell_type": "code",
   "execution_count": 156,
   "metadata": {},
   "outputs": [
    {
     "data": {
      "text/plain": [
       "['Wolf, Gray Wolf',\n",
       " 'Sierra Nevada Bighorn Sheep',\n",
       " 'Sierra Nevada Yellow-Legged Frog',\n",
       " 'California Condor',\n",
       " 'Red-Cockaded Woodpecker',\n",
       " 'Duskytail Darter',\n",
       " 'Whooping Crane',\n",
       " 'Red Wolf',\n",
       " 'June Sucker',\n",
       " \"Bachman's Warbler, Bachman's Wood Warbler\",\n",
       " 'Gray Myotis']"
      ]
     },
     "execution_count": 156,
     "metadata": {},
     "output_type": "execute_result"
    }
   ],
   "source": [
    "animals_com_names_list = animals['common_names'].to_list()\n",
    "animals_com_names_list[:11]"
   ]
  },
  {
   "cell_type": "code",
   "execution_count": 157,
   "metadata": {},
   "outputs": [
    {
     "name": "stdout",
     "output_type": "stream",
     "text": [
      "2388\n",
      "['Wolf', 'Gray', 'Wolf', 'Sierra', 'Nevada', 'Bighorn', 'Sheep', 'Sierra', 'Nevada', 'YellowLegged']\n"
     ]
    }
   ],
   "source": [
    "words_list = remove_punctuation(\", \".join(animals_com_names_list)).split()\n",
    "print(len(words_list))\n",
    "print(words_list[:10])"
   ]
  },
  {
   "cell_type": "code",
   "execution_count": 160,
   "metadata": {},
   "outputs": [
    {
     "data": {
      "text/plain": [
       "['Wolf, 3',\n",
       " 'Gray, 15',\n",
       " 'Wolf, 3',\n",
       " 'Sierra, 10',\n",
       " 'Nevada, 6',\n",
       " 'Bighorn, 2',\n",
       " 'Sheep, 5',\n",
       " 'Sierra, 10',\n",
       " 'Nevada, 6',\n",
       " 'YellowLegged, 1']"
      ]
     },
     "execution_count": 160,
     "metadata": {},
     "output_type": "execute_result"
    }
   ],
   "source": [
    "words = []\n",
    "for word in words_list:\n",
    "    words.append(word + \", \" + str(words_list.count(word)))\n",
    "\n",
    "words[:10]"
   ]
  },
  {
   "cell_type": "code",
   "execution_count": 110,
   "metadata": {},
   "outputs": [
    {
     "data": {
      "text/plain": [
       "[['Rocky', 'Mountain', 'Alpine', 'Fir'],\n",
       " ['Rocky', 'Mountain', 'Alpine', 'Fir'],\n",
       " ['Rocky', 'Mountain', 'Alpine', 'Fir'],\n",
       " ['Rocky', 'Mountain', 'Alpine', 'Fir'],\n",
       " ['Balsam',\n",
       "  'Fir',\n",
       "  'White',\n",
       "  'Balsam',\n",
       "  'Colorado',\n",
       "  'Fir',\n",
       "  'White',\n",
       "  'Fir',\n",
       "  'Concolor',\n",
       "  'Fir',\n",
       "  'Silver',\n",
       "  'Fir'],\n",
       " ['Balsam',\n",
       "  'Fir',\n",
       "  'White',\n",
       "  'Balsam',\n",
       "  'Colorado',\n",
       "  'Fir',\n",
       "  'White',\n",
       "  'Fir',\n",
       "  'Concolor',\n",
       "  'Fir',\n",
       "  'Silver',\n",
       "  'Fir'],\n",
       " ['Balsam',\n",
       "  'Fir',\n",
       "  'White',\n",
       "  'Balsam',\n",
       "  'Colorado',\n",
       "  'Fir',\n",
       "  'White',\n",
       "  'Fir',\n",
       "  'Concolor',\n",
       "  'Fir',\n",
       "  'Silver',\n",
       "  'Fir'],\n",
       " ['Balsam',\n",
       "  'Fir',\n",
       "  'White',\n",
       "  'Balsam',\n",
       "  'Colorado',\n",
       "  'Fir',\n",
       "  'White',\n",
       "  'Fir',\n",
       "  'Concolor',\n",
       "  'Fir',\n",
       "  'Silver',\n",
       "  'Fir'],\n",
       " ['Fraser', 'Fir'],\n",
       " ['Fraser', 'Fir']]"
      ]
     },
     "execution_count": 110,
     "metadata": {},
     "output_type": "execute_result"
    }
   ],
   "source": [
    "all_common_names = []\n",
    "for name in df['common_names'].to_list():\n",
    "    all_common_names.append(remove_punctuation(name).split(' '))\n",
    "\n",
    "all_common_names[:10]"
   ]
  },
  {
   "cell_type": "markdown",
   "metadata": {},
   "source": [
    "## Conclusions\n",
    "\n",
    "In this project, the author analyzed the biodiversity of species in four U.S. national parks.\n",
    "During the process, they applied key data analysis and visualization techniques using Python libraries such as pandas, matplotlib, and seaborn.\n",
    "Specifically, the work included:\n",
    "\n",
    "- reading and inspecting datasets;\n",
    "- cleaning data by detecting and removing duplicates;\n",
    "- grouping data by various parameters;\n",
    "- combining datasets with .merge;\n",
    "- reshaping data using .unstack;\n",
    "- visualizing results through bar plots and histograms.\n",
    "\n",
    "next question:\n",
    "- Are the results what you expected?\n",
    "- What are the key findings and takeaways?"
   ]
  }
 ],
 "metadata": {
  "kernelspec": {
   "display_name": "base",
   "language": "python",
   "name": "python3"
  },
  "language_info": {
   "codemirror_mode": {
    "name": "ipython",
    "version": 3
   },
   "file_extension": ".py",
   "mimetype": "text/x-python",
   "name": "python",
   "nbconvert_exporter": "python",
   "pygments_lexer": "ipython3",
   "version": "3.11.11"
  }
 },
 "nbformat": 4,
 "nbformat_minor": 4
}
