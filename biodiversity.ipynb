{
 "cells": [
  {
   "cell_type": "markdown",
   "metadata": {},
   "source": [
    "# Biodiversity in National Parks"
   ]
  },
  {
   "cell_type": "markdown",
   "metadata": {},
   "source": [
    "### Author: Alexander K."
   ]
  },
  {
   "cell_type": "markdown",
   "metadata": {},
   "source": [
    "## Overview\n",
    "This project interprets data from the National Parks Service about endangered species in different parks.\n"
   ]
  },
  {
   "cell_type": "markdown",
   "metadata": {},
   "source": [
    "## Project Goals\n",
    "- Performing data analysis on the conservation statuses of endangered species\n",
    "- Investigate the patterns related to the types of species that become endangered\n",
    "- Visualize the data to understand trends and distributions of endangered species across different national parks\n"
   ]
  },
  {
   "cell_type": "markdown",
   "metadata": {},
   "source": [
    "## Actions\n",
    "\n",
    "- analyze data;\n",
    "- clean up the datasets;\n",
    "- visualize the data using graphs and charts;\n",
    "- seek to answer the questions;\n",
    "- making conclusions based on the analysis."
   ]
  },
  {
   "cell_type": "markdown",
   "metadata": {},
   "source": [
    "## Data\n",
    "\n",
    "There are two datasets:\n",
    "1. Species data - contains information about different species, including their conservation status.\n",
    "2. Observations data - contains records of species observed in various national parks, including the date and location of the observation."
   ]
  },
  {
   "cell_type": "markdown",
   "metadata": {},
   "source": [
    "## Analysis\n",
    "\n",
    "fill in later"
   ]
  },
  {
   "cell_type": "code",
   "execution_count": 64,
   "metadata": {},
   "outputs": [],
   "source": [
    "# importing necessary libraries\n",
    "import pandas as pd\n",
    "import numpy as np\n",
    "import matplotlib.pyplot as plt\n",
    "import seaborn as sns"
   ]
  },
  {
   "cell_type": "code",
   "execution_count": 65,
   "metadata": {},
   "outputs": [],
   "source": [
    "# setting options\n",
    "pd.set_option('display.max_columns', None)\n",
    "pd.set_option(\"display.float_format\", \"{:.2f}\".format)"
   ]
  },
  {
   "cell_type": "code",
   "execution_count": 66,
   "metadata": {},
   "outputs": [],
   "source": [
    "# load the datasets\n",
    "\n",
    "species = pd.read_csv('species_info.csv')\n",
    "observations = pd.read_csv('observations.csv')"
   ]
  },
  {
   "cell_type": "markdown",
   "metadata": {},
   "source": [
    "## Exploratory Data Analysis (EDA)"
   ]
  },
  {
   "cell_type": "markdown",
   "metadata": {},
   "source": [
    "### Species and Conservation Status"
   ]
  },
  {
   "cell_type": "code",
   "execution_count": 67,
   "metadata": {},
   "outputs": [
    {
     "data": {
      "text/html": [
       "<div>\n",
       "<style scoped>\n",
       "    .dataframe tbody tr th:only-of-type {\n",
       "        vertical-align: middle;\n",
       "    }\n",
       "\n",
       "    .dataframe tbody tr th {\n",
       "        vertical-align: top;\n",
       "    }\n",
       "\n",
       "    .dataframe thead th {\n",
       "        text-align: right;\n",
       "    }\n",
       "</style>\n",
       "<table border=\"1\" class=\"dataframe\">\n",
       "  <thead>\n",
       "    <tr style=\"text-align: right;\">\n",
       "      <th></th>\n",
       "      <th>category</th>\n",
       "      <th>scientific_name</th>\n",
       "      <th>common_names</th>\n",
       "      <th>conservation_status</th>\n",
       "    </tr>\n",
       "  </thead>\n",
       "  <tbody>\n",
       "    <tr>\n",
       "      <th>0</th>\n",
       "      <td>Mammal</td>\n",
       "      <td>Clethrionomys gapperi gapperi</td>\n",
       "      <td>Gapper's Red-Backed Vole</td>\n",
       "      <td>NaN</td>\n",
       "    </tr>\n",
       "    <tr>\n",
       "      <th>1</th>\n",
       "      <td>Mammal</td>\n",
       "      <td>Bos bison</td>\n",
       "      <td>American Bison, Bison</td>\n",
       "      <td>NaN</td>\n",
       "    </tr>\n",
       "    <tr>\n",
       "      <th>2</th>\n",
       "      <td>Mammal</td>\n",
       "      <td>Bos taurus</td>\n",
       "      <td>Aurochs, Aurochs, Domestic Cattle (Feral), Dom...</td>\n",
       "      <td>NaN</td>\n",
       "    </tr>\n",
       "    <tr>\n",
       "      <th>3</th>\n",
       "      <td>Mammal</td>\n",
       "      <td>Ovis aries</td>\n",
       "      <td>Domestic Sheep, Mouflon, Red Sheep, Sheep (Feral)</td>\n",
       "      <td>NaN</td>\n",
       "    </tr>\n",
       "    <tr>\n",
       "      <th>4</th>\n",
       "      <td>Mammal</td>\n",
       "      <td>Cervus elaphus</td>\n",
       "      <td>Wapiti Or Elk</td>\n",
       "      <td>NaN</td>\n",
       "    </tr>\n",
       "  </tbody>\n",
       "</table>\n",
       "</div>"
      ],
      "text/plain": [
       "  category                scientific_name  \\\n",
       "0   Mammal  Clethrionomys gapperi gapperi   \n",
       "1   Mammal                      Bos bison   \n",
       "2   Mammal                     Bos taurus   \n",
       "3   Mammal                     Ovis aries   \n",
       "4   Mammal                 Cervus elaphus   \n",
       "\n",
       "                                        common_names conservation_status  \n",
       "0                           Gapper's Red-Backed Vole                 NaN  \n",
       "1                              American Bison, Bison                 NaN  \n",
       "2  Aurochs, Aurochs, Domestic Cattle (Feral), Dom...                 NaN  \n",
       "3  Domestic Sheep, Mouflon, Red Sheep, Sheep (Feral)                 NaN  \n",
       "4                                      Wapiti Or Elk                 NaN  "
      ]
     },
     "execution_count": 67,
     "metadata": {},
     "output_type": "execute_result"
    }
   ],
   "source": [
    "# inspecting species dataset\n",
    "species.head()"
   ]
  },
  {
   "cell_type": "code",
   "execution_count": 68,
   "metadata": {},
   "outputs": [
    {
     "name": "stdout",
     "output_type": "stream",
     "text": [
      "The shape of the species dataset is - (5824, 4)\n",
      "\n",
      "<class 'pandas.core.frame.DataFrame'>\n",
      "RangeIndex: 5824 entries, 0 to 5823\n",
      "Data columns (total 4 columns):\n",
      " #   Column               Non-Null Count  Dtype \n",
      "---  ------               --------------  ----- \n",
      " 0   category             5824 non-null   object\n",
      " 1   scientific_name      5824 non-null   object\n",
      " 2   common_names         5824 non-null   object\n",
      " 3   conservation_status  191 non-null    object\n",
      "dtypes: object(4)\n",
      "memory usage: 182.1+ KB\n",
      "None\n"
     ]
    }
   ],
   "source": [
    "# inspecting species dataset\n",
    "print(f\"The shape of the species dataset is - {species.shape}\")\n",
    "print()\n",
    "print(species.info())"
   ]
  },
  {
   "cell_type": "code",
   "execution_count": 69,
   "metadata": {},
   "outputs": [
    {
     "data": {
      "text/plain": [
       "Index(['category', 'scientific_name', 'common_names', 'conservation_status'], dtype='object')"
      ]
     },
     "execution_count": 69,
     "metadata": {},
     "output_type": "execute_result"
    }
   ],
   "source": [
    "species.columns"
   ]
  },
  {
   "cell_type": "markdown",
   "metadata": {},
   "source": [
    "There are 5824 rows and 4 columns in the species dataset:\n",
    "* category - class of animal\n",
    "* scientific_name - the scientific name of each species\n",
    "* common_name - the common names of each species\n",
    "* conservation_status - each species’ current conservation status"
   ]
  },
  {
   "cell_type": "code",
   "execution_count": 70,
   "metadata": {},
   "outputs": [
    {
     "data": {
      "text/plain": [
       "scientific_name\n",
       "Castor canadensis            3\n",
       "Canis lupus                  3\n",
       "Hypochaeris radicata         3\n",
       "Columba livia                3\n",
       "Puma concolor                3\n",
       "                            ..\n",
       "Carex                        1\n",
       "Hexastylis shuttleworthii    1\n",
       "Hexastylis heterophylla      1\n",
       "Hexastylis arifolia          1\n",
       "Tribulus terrestris          1\n",
       "Name: count, Length: 5541, dtype: int64"
      ]
     },
     "execution_count": 70,
     "metadata": {},
     "output_type": "execute_result"
    }
   ],
   "source": [
    "# count scientific_name values\n",
    "species['scientific_name'].value_counts()"
   ]
  },
  {
   "cell_type": "code",
   "execution_count": 71,
   "metadata": {},
   "outputs": [
    {
     "data": {
      "text/html": [
       "<div>\n",
       "<style scoped>\n",
       "    .dataframe tbody tr th:only-of-type {\n",
       "        vertical-align: middle;\n",
       "    }\n",
       "\n",
       "    .dataframe tbody tr th {\n",
       "        vertical-align: top;\n",
       "    }\n",
       "\n",
       "    .dataframe thead th {\n",
       "        text-align: right;\n",
       "    }\n",
       "</style>\n",
       "<table border=\"1\" class=\"dataframe\">\n",
       "  <thead>\n",
       "    <tr style=\"text-align: right;\">\n",
       "      <th></th>\n",
       "      <th>category</th>\n",
       "      <th>scientific_name</th>\n",
       "      <th>conservation_status</th>\n",
       "    </tr>\n",
       "  </thead>\n",
       "  <tbody>\n",
       "    <tr>\n",
       "      <th>0</th>\n",
       "      <td>Mammal</td>\n",
       "      <td>Clethrionomys gapperi gapperi</td>\n",
       "      <td>NaN</td>\n",
       "    </tr>\n",
       "    <tr>\n",
       "      <th>1</th>\n",
       "      <td>Mammal</td>\n",
       "      <td>Bos bison</td>\n",
       "      <td>NaN</td>\n",
       "    </tr>\n",
       "    <tr>\n",
       "      <th>2</th>\n",
       "      <td>Mammal</td>\n",
       "      <td>Bos taurus</td>\n",
       "      <td>NaN</td>\n",
       "    </tr>\n",
       "    <tr>\n",
       "      <th>3</th>\n",
       "      <td>Mammal</td>\n",
       "      <td>Ovis aries</td>\n",
       "      <td>NaN</td>\n",
       "    </tr>\n",
       "    <tr>\n",
       "      <th>4</th>\n",
       "      <td>Mammal</td>\n",
       "      <td>Cervus elaphus</td>\n",
       "      <td>NaN</td>\n",
       "    </tr>\n",
       "  </tbody>\n",
       "</table>\n",
       "</div>"
      ],
      "text/plain": [
       "  category                scientific_name conservation_status\n",
       "0   Mammal  Clethrionomys gapperi gapperi                 NaN\n",
       "1   Mammal                      Bos bison                 NaN\n",
       "2   Mammal                     Bos taurus                 NaN\n",
       "3   Mammal                     Ovis aries                 NaN\n",
       "4   Mammal                 Cervus elaphus                 NaN"
      ]
     },
     "execution_count": 71,
     "metadata": {},
     "output_type": "execute_result"
    }
   ],
   "source": [
    "# drop common_names column\n",
    "species_drop = species.drop(columns=['common_names'])\n",
    "species_drop.head()"
   ]
  },
  {
   "cell_type": "code",
   "execution_count": 72,
   "metadata": {},
   "outputs": [
    {
     "data": {
      "text/plain": [
       "scientific_name\n",
       "Streptopelia decaocto                 2\n",
       "Myotis lucifugus                      2\n",
       "Hypochaeris radicata                  2\n",
       "Puma concolor                         2\n",
       "Columba livia                         2\n",
       "                                     ..\n",
       "Rorippa palustris ssp. fernaldiana    1\n",
       "Sisymbrium officinale                 1\n",
       "Thlaspi arvense                       1\n",
       "Amaranthus albus                      1\n",
       "Agrostis variabilis                   1\n",
       "Name: count, Length: 273, dtype: int64"
      ]
     },
     "execution_count": 72,
     "metadata": {},
     "output_type": "execute_result"
    }
   ],
   "source": [
    "# check for duplicates\n",
    "species_drop[species_drop.duplicated(keep='last')]['scientific_name'].value_counts()"
   ]
  },
  {
   "cell_type": "code",
   "execution_count": 73,
   "metadata": {},
   "outputs": [
    {
     "data": {
      "text/html": [
       "<div>\n",
       "<style scoped>\n",
       "    .dataframe tbody tr th:only-of-type {\n",
       "        vertical-align: middle;\n",
       "    }\n",
       "\n",
       "    .dataframe tbody tr th {\n",
       "        vertical-align: top;\n",
       "    }\n",
       "\n",
       "    .dataframe thead th {\n",
       "        text-align: right;\n",
       "    }\n",
       "</style>\n",
       "<table border=\"1\" class=\"dataframe\">\n",
       "  <thead>\n",
       "    <tr style=\"text-align: right;\">\n",
       "      <th></th>\n",
       "      <th>category</th>\n",
       "      <th>scientific_name</th>\n",
       "      <th>conservation_status</th>\n",
       "    </tr>\n",
       "  </thead>\n",
       "  <tbody>\n",
       "    <tr>\n",
       "      <th>560</th>\n",
       "      <td>Fish</td>\n",
       "      <td>Oncorhynchus mykiss</td>\n",
       "      <td>NaN</td>\n",
       "    </tr>\n",
       "    <tr>\n",
       "      <th>3283</th>\n",
       "      <td>Fish</td>\n",
       "      <td>Oncorhynchus mykiss</td>\n",
       "      <td>Threatened</td>\n",
       "    </tr>\n",
       "  </tbody>\n",
       "</table>\n",
       "</div>"
      ],
      "text/plain": [
       "     category      scientific_name conservation_status\n",
       "560      Fish  Oncorhynchus mykiss                 NaN\n",
       "3283     Fish  Oncorhynchus mykiss          Threatened"
      ]
     },
     "execution_count": 73,
     "metadata": {},
     "output_type": "execute_result"
    }
   ],
   "source": [
    "# check for one value scientific_name\n",
    "species_drop[species_drop['scientific_name']=='Oncorhynchus mykiss']"
   ]
  },
  {
   "cell_type": "code",
   "execution_count": 74,
   "metadata": {},
   "outputs": [
    {
     "name": "stdout",
     "output_type": "stream",
     "text": [
      "The shape of the species dataset without scientific_name duplicates is - (5541, 3)\n"
     ]
    }
   ],
   "source": [
    "# drop duplicates by scientific_name and keep last value\n",
    "species_drop = species_drop.drop_duplicates(subset='scientific_name', keep='last')\n",
    "print(f\"The shape of the species dataset without scientific_name duplicates is - {species_drop.shape}\")"
   ]
  },
  {
   "cell_type": "code",
   "execution_count": 75,
   "metadata": {},
   "outputs": [
    {
     "data": {
      "text/plain": [
       "category        scientific_name     conservation_status\n",
       "Amphibian       Anaxyrus canorus    Threatened             1\n",
       "Vascular Plant  Abronia ammophila   Species of Concern     1\n",
       "Mammal          Myotis thysanodes   Species of Concern     1\n",
       "                Myotis volans       Species of Concern     1\n",
       "                Myotis yumanensis   Species of Concern     1\n",
       "                                                          ..\n",
       "Bird            Picoides borealis   Endangered             1\n",
       "                Picoides pubescens  Species of Concern     1\n",
       "                Pipilo chlorurus    Species of Concern     1\n",
       "                Piranga rubra       Species of Concern     1\n",
       "Vascular Plant  Zizia trifoliata    Species of Concern     1\n",
       "Name: count, Length: 179, dtype: int64"
      ]
     },
     "execution_count": 75,
     "metadata": {},
     "output_type": "execute_result"
    }
   ],
   "source": [
    "# checking\n",
    "species_drop.value_counts()"
   ]
  },
  {
   "cell_type": "code",
   "execution_count": 76,
   "metadata": {},
   "outputs": [
    {
     "data": {
      "text/plain": [
       "(179, 3)"
      ]
     },
     "execution_count": 76,
     "metadata": {},
     "output_type": "execute_result"
    }
   ],
   "source": [
    "# creating the data frame with only conservation species\n",
    "conservation_species = species_drop[~species_drop['conservation_status'].isna()].sort_values('scientific_name')\n",
    "conservation_species.shape\n"
   ]
  },
  {
   "cell_type": "code",
   "execution_count": 77,
   "metadata": {},
   "outputs": [
    {
     "name": "stdout",
     "output_type": "stream",
     "text": [
      "<class 'pandas.core.frame.DataFrame'>\n",
      "Index: 5541 entries, 0 to 5823\n",
      "Data columns (total 3 columns):\n",
      " #   Column               Non-Null Count  Dtype \n",
      "---  ------               --------------  ----- \n",
      " 0   category             5541 non-null   object\n",
      " 1   scientific_name      5541 non-null   object\n",
      " 2   conservation_status  179 non-null    object\n",
      "dtypes: object(3)\n",
      "memory usage: 173.2+ KB\n"
     ]
    }
   ],
   "source": [
    "species_drop.info()"
   ]
  },
  {
   "cell_type": "code",
   "execution_count": 79,
   "metadata": {},
   "outputs": [
    {
     "data": {
      "text/plain": [
       "category\n",
       "Vascular Plant       4262\n",
       "Bird                  488\n",
       "Nonvascular Plant     333\n",
       "Mammal                176\n",
       "Fish                  125\n",
       "Amphibian              79\n",
       "Reptile                78\n",
       "Name: count, dtype: int64"
      ]
     },
     "execution_count": 79,
     "metadata": {},
     "output_type": "execute_result"
    }
   ],
   "source": [
    "# counting the number of values in the 'category' column\n",
    "species_drop['category'].value_counts()"
   ]
  },
  {
   "cell_type": "code",
   "execution_count": 80,
   "metadata": {},
   "outputs": [
    {
     "data": {
      "image/png": "[encoded data removed]",
      "text/plain": [
       "<Figure size 800x500 with 1 Axes>"
      ]
     },
     "metadata": {},
     "output_type": "display_data"
    }
   ],
   "source": [
    "# creating a countplot for the 'category' column\n",
    "plt.figure(figsize=(8, 5), frameon=True)\n",
    "sns.countplot(data=species_drop, x='category', hue='category', palette='Set2', order=species['category'].value_counts().index, legend=False)\n",
    "plt.title('Count of Species by Category')\n",
    "plt.xticks(rotation=30, fontsize=8)\n",
    "plt.show()"
   ]
  },
  {
   "cell_type": "code",
   "execution_count": 81,
   "metadata": {},
   "outputs": [
    {
     "data": {
      "text/plain": [
       "conservation_status\n",
       "Species of Concern    151\n",
       "Endangered             15\n",
       "Threatened             10\n",
       "In Recovery             3\n",
       "Name: count, dtype: int64"
      ]
     },
     "execution_count": 81,
     "metadata": {},
     "output_type": "execute_result"
    }
   ],
   "source": [
    "# count the total number of conservation species\n",
    "species_drop['conservation_status'].value_counts()"
   ]
  },
  {
   "cell_type": "code",
   "execution_count": 82,
   "metadata": {},
   "outputs": [
    {
     "data": {
      "text/html": [
       "<div>\n",
       "<style scoped>\n",
       "    .dataframe tbody tr th:only-of-type {\n",
       "        vertical-align: middle;\n",
       "    }\n",
       "\n",
       "    .dataframe tbody tr th {\n",
       "        vertical-align: top;\n",
       "    }\n",
       "\n",
       "    .dataframe thead th {\n",
       "        text-align: right;\n",
       "    }\n",
       "</style>\n",
       "<table border=\"1\" class=\"dataframe\">\n",
       "  <thead>\n",
       "    <tr style=\"text-align: right;\">\n",
       "      <th>category</th>\n",
       "      <th>Amphibian</th>\n",
       "      <th>Bird</th>\n",
       "      <th>Fish</th>\n",
       "      <th>Mammal</th>\n",
       "      <th>Nonvascular Plant</th>\n",
       "      <th>Reptile</th>\n",
       "      <th>Vascular Plant</th>\n",
       "    </tr>\n",
       "    <tr>\n",
       "      <th>conservation_status</th>\n",
       "      <th></th>\n",
       "      <th></th>\n",
       "      <th></th>\n",
       "      <th></th>\n",
       "      <th></th>\n",
       "      <th></th>\n",
       "      <th></th>\n",
       "    </tr>\n",
       "  </thead>\n",
       "  <tbody>\n",
       "    <tr>\n",
       "      <th>Endangered</th>\n",
       "      <td>1</td>\n",
       "      <td>4</td>\n",
       "      <td>3</td>\n",
       "      <td>6</td>\n",
       "      <td>0</td>\n",
       "      <td>0</td>\n",
       "      <td>1</td>\n",
       "    </tr>\n",
       "    <tr>\n",
       "      <th>In Recovery</th>\n",
       "      <td>0</td>\n",
       "      <td>3</td>\n",
       "      <td>0</td>\n",
       "      <td>0</td>\n",
       "      <td>0</td>\n",
       "      <td>0</td>\n",
       "      <td>0</td>\n",
       "    </tr>\n",
       "    <tr>\n",
       "      <th>Species of Concern</th>\n",
       "      <td>4</td>\n",
       "      <td>68</td>\n",
       "      <td>4</td>\n",
       "      <td>22</td>\n",
       "      <td>5</td>\n",
       "      <td>5</td>\n",
       "      <td>43</td>\n",
       "    </tr>\n",
       "    <tr>\n",
       "      <th>Threatened</th>\n",
       "      <td>2</td>\n",
       "      <td>0</td>\n",
       "      <td>4</td>\n",
       "      <td>2</td>\n",
       "      <td>0</td>\n",
       "      <td>0</td>\n",
       "      <td>2</td>\n",
       "    </tr>\n",
       "  </tbody>\n",
       "</table>\n",
       "</div>"
      ],
      "text/plain": [
       "category             Amphibian  Bird  Fish  Mammal  Nonvascular Plant  \\\n",
       "conservation_status                                                     \n",
       "Endangered                   1     4     3       6                  0   \n",
       "In Recovery                  0     3     0       0                  0   \n",
       "Species of Concern           4    68     4      22                  5   \n",
       "Threatened                   2     0     4       2                  0   \n",
       "\n",
       "category             Reptile  Vascular Plant  \n",
       "conservation_status                           \n",
       "Endangered                 0               1  \n",
       "In Recovery                0               0  \n",
       "Species of Concern         5              43  \n",
       "Threatened                 0               2  "
      ]
     },
     "execution_count": 82,
     "metadata": {},
     "output_type": "execute_result"
    }
   ],
   "source": [
    "# select category and conservation status, group by conservation_status, and count category status\n",
    "# using .unstack() to pivot the table; fill missing values with 0\n",
    "conservationCategory = species_drop[['category', 'conservation_status']].groupby('conservation_status').value_counts().unstack().fillna(0).astype(int)\n",
    "conservationCategory"
   ]
  },
  {
   "cell_type": "code",
   "execution_count": 83,
   "metadata": {},
   "outputs": [
    {
     "data": {
      "image/png": "[encoded data removed]",
      "text/plain": [
       "<Figure size 800x500 with 1 Axes>"
      ]
     },
     "metadata": {},
     "output_type": "display_data"
    }
   ],
   "source": [
    "# creating stacked bar plot for conservation status by category\n",
    "conservationCategory.plot(kind='bar', stacked=True, figsize=(8, 5))\n",
    "plt.title('Conservation Status by Category')\n",
    "plt.xlabel('Conservation Status')\n",
    "plt.ylabel('Number of Species')\n",
    "plt.show()"
   ]
  },
  {
   "cell_type": "markdown",
   "metadata": {},
   "source": [
    "### Insights from species data\n",
    "\n",
    "The species dataset contains information about animal and plant species living in U.S. national parks, including their conservation status.\n",
    "\n",
    "The data shows that 179 out of 5,541 species have been assigned some form of conservation status. This represents approximately 3.23% of all species in the dataset.\n",
    "\n",
    "The most prevalent category is Vascular Plants, with a total of 4,262 species. Other notable groups include Birds, Nonvascular Plants, and Mammals. The smallest categories are Reptiles and Amphibians.\n",
    "\n",
    "Around 200 species have been assigned a conservation status. The most common status is Species of Concern, where birds make up the largest share. Vascular Plants and Mammals also represent a significant portion of this category.\n",
    "\n",
    "Among endangered species, mammals are the most represented group, followed by birds and fish.\n",
    "\n",
    "The In Recovery status applies to only 3 species across all national parks. The are three bird species.\n",
    "\n",
    "If environmental conditions remain unchanged in the coming years, several species of Amphibians, Mammals, Fish, and Vascular Plants may move into the endangered category."
   ]
  },
  {
   "cell_type": "markdown",
   "metadata": {},
   "source": [
    "### Observations data"
   ]
  },
  {
   "cell_type": "code",
   "execution_count": 84,
   "metadata": {},
   "outputs": [
    {
     "data": {
      "text/html": [
       "<div>\n",
       "<style scoped>\n",
       "    .dataframe tbody tr th:only-of-type {\n",
       "        vertical-align: middle;\n",
       "    }\n",
       "\n",
       "    .dataframe tbody tr th {\n",
       "        vertical-align: top;\n",
       "    }\n",
       "\n",
       "    .dataframe thead th {\n",
       "        text-align: right;\n",
       "    }\n",
       "</style>\n",
       "<table border=\"1\" class=\"dataframe\">\n",
       "  <thead>\n",
       "    <tr style=\"text-align: right;\">\n",
       "      <th></th>\n",
       "      <th>scientific_name</th>\n",
       "      <th>park_name</th>\n",
       "      <th>observations</th>\n",
       "    </tr>\n",
       "  </thead>\n",
       "  <tbody>\n",
       "    <tr>\n",
       "      <th>0</th>\n",
       "      <td>Vicia benghalensis</td>\n",
       "      <td>Great Smoky Mountains National Park</td>\n",
       "      <td>68</td>\n",
       "    </tr>\n",
       "    <tr>\n",
       "      <th>1</th>\n",
       "      <td>Neovison vison</td>\n",
       "      <td>Great Smoky Mountains National Park</td>\n",
       "      <td>77</td>\n",
       "    </tr>\n",
       "    <tr>\n",
       "      <th>2</th>\n",
       "      <td>Prunus subcordata</td>\n",
       "      <td>Yosemite National Park</td>\n",
       "      <td>138</td>\n",
       "    </tr>\n",
       "    <tr>\n",
       "      <th>3</th>\n",
       "      <td>Abutilon theophrasti</td>\n",
       "      <td>Bryce National Park</td>\n",
       "      <td>84</td>\n",
       "    </tr>\n",
       "    <tr>\n",
       "      <th>4</th>\n",
       "      <td>Githopsis specularioides</td>\n",
       "      <td>Great Smoky Mountains National Park</td>\n",
       "      <td>85</td>\n",
       "    </tr>\n",
       "  </tbody>\n",
       "</table>\n",
       "</div>"
      ],
      "text/plain": [
       "            scientific_name                            park_name  observations\n",
       "0        Vicia benghalensis  Great Smoky Mountains National Park            68\n",
       "1            Neovison vison  Great Smoky Mountains National Park            77\n",
       "2         Prunus subcordata               Yosemite National Park           138\n",
       "3      Abutilon theophrasti                  Bryce National Park            84\n",
       "4  Githopsis specularioides  Great Smoky Mountains National Park            85"
      ]
     },
     "execution_count": 84,
     "metadata": {},
     "output_type": "execute_result"
    }
   ],
   "source": [
    "# inspecting observations dataset\n",
    "observations.head()"
   ]
  },
  {
   "cell_type": "code",
   "execution_count": 85,
   "metadata": {},
   "outputs": [
    {
     "name": "stdout",
     "output_type": "stream",
     "text": [
      "The shape of the observations dataset is - (23296, 3)\n",
      "\n",
      "<class 'pandas.core.frame.DataFrame'>\n",
      "RangeIndex: 23296 entries, 0 to 23295\n",
      "Data columns (total 3 columns):\n",
      " #   Column           Non-Null Count  Dtype \n",
      "---  ------           --------------  ----- \n",
      " 0   scientific_name  23296 non-null  object\n",
      " 1   park_name        23296 non-null  object\n",
      " 2   observations     23296 non-null  int64 \n",
      "dtypes: int64(1), object(2)\n",
      "memory usage: 546.1+ KB\n",
      "None\n"
     ]
    }
   ],
   "source": [
    "# inspecting observations dataset\n",
    "print(f\"The shape of the observations dataset is - {observations.shape}\")\n",
    "print()\n",
    "print(observations.info())"
   ]
  },
  {
   "cell_type": "code",
   "execution_count": 86,
   "metadata": {},
   "outputs": [
    {
     "data": {
      "text/plain": [
       "Index(['scientific_name', 'park_name', 'observations'], dtype='object')"
      ]
     },
     "execution_count": 86,
     "metadata": {},
     "output_type": "execute_result"
    }
   ],
   "source": [
    "observations.columns"
   ]
  },
  {
   "cell_type": "markdown",
   "metadata": {},
   "source": [
    "There are 23296 rows and 3 columns in the observations dataset:\n",
    "* scientific_name - the scientific name of each species\n",
    "* park_name - Park where species were found\n",
    "* observations - the number of times each species was observed at park"
   ]
  },
  {
   "cell_type": "code",
   "execution_count": null,
   "metadata": {},
   "outputs": [
    {
     "data": {
      "text/html": [
       "<div>\n",
       "<style scoped>\n",
       "    .dataframe tbody tr th:only-of-type {\n",
       "        vertical-align: middle;\n",
       "    }\n",
       "\n",
       "    .dataframe tbody tr th {\n",
       "        vertical-align: top;\n",
       "    }\n",
       "\n",
       "    .dataframe thead th {\n",
       "        text-align: right;\n",
       "    }\n",
       "</style>\n",
       "<table border=\"1\" class=\"dataframe\">\n",
       "  <thead>\n",
       "    <tr style=\"text-align: right;\">\n",
       "      <th></th>\n",
       "      <th>scientific_name</th>\n",
       "      <th>park_name</th>\n",
       "      <th>observations</th>\n",
       "    </tr>\n",
       "  </thead>\n",
       "  <tbody>\n",
       "    <tr>\n",
       "      <th>792</th>\n",
       "      <td>Agrostis capillaris</td>\n",
       "      <td>Great Smoky Mountains National Park</td>\n",
       "      <td>84</td>\n",
       "    </tr>\n",
       "    <tr>\n",
       "      <th>7750</th>\n",
       "      <td>Agrostis capillaris</td>\n",
       "      <td>Yosemite National Park</td>\n",
       "      <td>182</td>\n",
       "    </tr>\n",
       "    <tr>\n",
       "      <th>17735</th>\n",
       "      <td>Agrostis capillaris</td>\n",
       "      <td>Yosemite National Park</td>\n",
       "      <td>140</td>\n",
       "    </tr>\n",
       "    <tr>\n",
       "      <th>4864</th>\n",
       "      <td>Agrostis capillaris</td>\n",
       "      <td>Bryce National Park</td>\n",
       "      <td>105</td>\n",
       "    </tr>\n",
       "    <tr>\n",
       "      <th>6166</th>\n",
       "      <td>Agrostis capillaris</td>\n",
       "      <td>Yellowstone National Park</td>\n",
       "      <td>241</td>\n",
       "    </tr>\n",
       "    <tr>\n",
       "      <th>17428</th>\n",
       "      <td>Agrostis capillaris</td>\n",
       "      <td>Great Smoky Mountains National Park</td>\n",
       "      <td>97</td>\n",
       "    </tr>\n",
       "    <tr>\n",
       "      <th>3993</th>\n",
       "      <td>Agrostis capillaris</td>\n",
       "      <td>Bryce National Park</td>\n",
       "      <td>103</td>\n",
       "    </tr>\n",
       "    <tr>\n",
       "      <th>10379</th>\n",
       "      <td>Agrostis capillaris</td>\n",
       "      <td>Yellowstone National Park</td>\n",
       "      <td>267</td>\n",
       "    </tr>\n",
       "    <tr>\n",
       "      <th>17535</th>\n",
       "      <td>Agrostis gigantea</td>\n",
       "      <td>Yosemite National Park</td>\n",
       "      <td>128</td>\n",
       "    </tr>\n",
       "    <tr>\n",
       "      <th>13907</th>\n",
       "      <td>Agrostis gigantea</td>\n",
       "      <td>Yosemite National Park</td>\n",
       "      <td>148</td>\n",
       "    </tr>\n",
       "  </tbody>\n",
       "</table>\n",
       "</div>"
      ],
      "text/plain": [
       "           scientific_name                            park_name  observations\n",
       "792    Agrostis capillaris  Great Smoky Mountains National Park            84\n",
       "7750   Agrostis capillaris               Yosemite National Park           182\n",
       "17735  Agrostis capillaris               Yosemite National Park           140\n",
       "4864   Agrostis capillaris                  Bryce National Park           105\n",
       "6166   Agrostis capillaris            Yellowstone National Park           241\n",
       "17428  Agrostis capillaris  Great Smoky Mountains National Park            97\n",
       "3993   Agrostis capillaris                  Bryce National Park           103\n",
       "10379  Agrostis capillaris            Yellowstone National Park           267\n",
       "17535    Agrostis gigantea               Yosemite National Park           128\n",
       "13907    Agrostis gigantea               Yosemite National Park           148"
      ]
     },
     "execution_count": 105,
     "metadata": {},
     "output_type": "execute_result"
    }
   ],
   "source": [
    "# checking duplicates in observations dataset\n",
    "observations[observations.duplicated(subset=['scientific_name', 'park_name'], keep=False)] \\\n",
    "\t.sort_values(by='scientific_name') \\\n",
    "\t.head(10)"
   ]
  },
  {
   "cell_type": "code",
   "execution_count": null,
   "metadata": {},
   "outputs": [
    {
     "name": "stdout",
     "output_type": "stream",
     "text": [
      "The shape of the cleaned observations dataset is - (22164, 3)\n"
     ]
    }
   ],
   "source": [
    "# agregating observations by scientific_name and park_name\n",
    "# summing the observations for each group\n",
    "observations_clean = observations.groupby(['scientific_name', 'park_name'], as_index=False)['observations'].sum()\n",
    "print(f\"The shape of the cleaned observations dataset is - {observations_clean.shape}\")"
   ]
  },
  {
   "cell_type": "code",
   "execution_count": null,
   "metadata": {},
   "outputs": [
    {
     "data": {
      "text/plain": [
       "False"
      ]
     },
     "execution_count": 119,
     "metadata": {},
     "output_type": "execute_result"
    }
   ],
   "source": [
    "# checking for duplicates in cleaned observations dataset\n",
    "observations_clean.duplicated().any()"
   ]
  },
  {
   "cell_type": "code",
   "execution_count": 89,
   "metadata": {},
   "outputs": [
    {
     "data": {
      "image/png": "[encoded data removed]",
      "text/plain": [
       "<Figure size 800x500 with 1 Axes>"
      ]
     },
     "metadata": {},
     "output_type": "display_data"
    }
   ],
   "source": [
    "# making the histogram for the observations\n",
    "plt.figure(figsize=(8, 5), frameon=True)\n",
    "sns.histplot(data=observations, x='observations', bins=30, kde=True)\n",
    "plt.title('Distribution of Observations')\n",
    "plt.show()"
   ]
  },
  {
   "cell_type": "code",
   "execution_count": 90,
   "metadata": {},
   "outputs": [
    {
     "data": {
      "text/html": [
       "<div>\n",
       "<style scoped>\n",
       "    .dataframe tbody tr th:only-of-type {\n",
       "        vertical-align: middle;\n",
       "    }\n",
       "\n",
       "    .dataframe tbody tr th {\n",
       "        vertical-align: top;\n",
       "    }\n",
       "\n",
       "    .dataframe thead th {\n",
       "        text-align: right;\n",
       "    }\n",
       "</style>\n",
       "<table border=\"1\" class=\"dataframe\">\n",
       "  <thead>\n",
       "    <tr style=\"text-align: right;\">\n",
       "      <th></th>\n",
       "      <th>park_name</th>\n",
       "      <th>total_observations</th>\n",
       "    </tr>\n",
       "  </thead>\n",
       "  <tbody>\n",
       "    <tr>\n",
       "      <th>2</th>\n",
       "      <td>Yellowstone National Park</td>\n",
       "      <td>1443562</td>\n",
       "    </tr>\n",
       "    <tr>\n",
       "      <th>3</th>\n",
       "      <td>Yosemite National Park</td>\n",
       "      <td>863332</td>\n",
       "    </tr>\n",
       "    <tr>\n",
       "      <th>0</th>\n",
       "      <td>Bryce National Park</td>\n",
       "      <td>576025</td>\n",
       "    </tr>\n",
       "    <tr>\n",
       "      <th>1</th>\n",
       "      <td>Great Smoky Mountains National Park</td>\n",
       "      <td>431820</td>\n",
       "    </tr>\n",
       "  </tbody>\n",
       "</table>\n",
       "</div>"
      ],
      "text/plain": [
       "                             park_name  total_observations\n",
       "2            Yellowstone National Park             1443562\n",
       "3               Yosemite National Park              863332\n",
       "0                  Bryce National Park              576025\n",
       "1  Great Smoky Mountains National Park              431820"
      ]
     },
     "execution_count": 90,
     "metadata": {},
     "output_type": "execute_result"
    }
   ],
   "source": [
    "# counting the number of observations by park\n",
    "observationsByPark = observations.groupby('park_name')['observations'].sum().reset_index()\n",
    "# renaming the column for clarity\n",
    "observationsByPark.rename(columns={'observations': 'total_observations'}, inplace=True)\n",
    "observationsByPark.sort_values(by='total_observations', ascending=False, inplace=True)\n",
    "observationsByPark"
   ]
  },
  {
   "cell_type": "code",
   "execution_count": 91,
   "metadata": {},
   "outputs": [
    {
     "data": {
      "image/png": "[encoded data removed]",
      "text/plain": [
       "<Figure size 800x500 with 1 Axes>"
      ]
     },
     "metadata": {},
     "output_type": "display_data"
    }
   ],
   "source": [
    "# creating a bar plot for observations by park\n",
    "plt.figure(figsize=(8, 5), frameon=True)\n",
    "sns.barplot(data=observationsByPark, x='park_name', y='total_observations', hue='park_name', palette='Set2', legend=True)\n",
    "plt.title('Total Observations by Park')\n",
    "plt.xlabel('Park name')\n",
    "plt.xticks([])\n",
    "plt.show()"
   ]
  },
  {
   "cell_type": "code",
   "execution_count": 92,
   "metadata": {},
   "outputs": [
    {
     "data": {
      "text/html": [
       "<div>\n",
       "<style scoped>\n",
       "    .dataframe tbody tr th:only-of-type {\n",
       "        vertical-align: middle;\n",
       "    }\n",
       "\n",
       "    .dataframe tbody tr th {\n",
       "        vertical-align: top;\n",
       "    }\n",
       "\n",
       "    .dataframe thead th {\n",
       "        text-align: right;\n",
       "    }\n",
       "</style>\n",
       "<table border=\"1\" class=\"dataframe\">\n",
       "  <thead>\n",
       "    <tr style=\"text-align: right;\">\n",
       "      <th></th>\n",
       "      <th>park_name</th>\n",
       "      <th>scientific_name</th>\n",
       "      <th>observations</th>\n",
       "    </tr>\n",
       "  </thead>\n",
       "  <tbody>\n",
       "    <tr>\n",
       "      <th>13138</th>\n",
       "      <td>Bryce National Park</td>\n",
       "      <td>Valerianella radiata</td>\n",
       "      <td>176</td>\n",
       "    </tr>\n",
       "    <tr>\n",
       "      <th>8840</th>\n",
       "      <td>Great Smoky Mountains National Park</td>\n",
       "      <td>Sonchus asper ssp. asper</td>\n",
       "      <td>147</td>\n",
       "    </tr>\n",
       "    <tr>\n",
       "      <th>11281</th>\n",
       "      <td>Yellowstone National Park</td>\n",
       "      <td>Lycopodium tristachyum</td>\n",
       "      <td>321</td>\n",
       "    </tr>\n",
       "    <tr>\n",
       "      <th>6682</th>\n",
       "      <td>Yosemite National Park</td>\n",
       "      <td>Ivesia shockleyi var. shockleyi</td>\n",
       "      <td>223</td>\n",
       "    </tr>\n",
       "  </tbody>\n",
       "</table>\n",
       "</div>"
      ],
      "text/plain": [
       "                                 park_name                  scientific_name  \\\n",
       "13138                  Bryce National Park             Valerianella radiata   \n",
       "8840   Great Smoky Mountains National Park         Sonchus asper ssp. asper   \n",
       "11281            Yellowstone National Park           Lycopodium tristachyum   \n",
       "6682                Yosemite National Park  Ivesia shockleyi var. shockleyi   \n",
       "\n",
       "       observations  \n",
       "13138           176  \n",
       "8840            147  \n",
       "11281           321  \n",
       "6682            223  "
      ]
     },
     "execution_count": 92,
     "metadata": {},
     "output_type": "execute_result"
    }
   ],
   "source": [
    "# most observed species\n",
    "# find the index of the maximum observations for each park\n",
    "idx = observations.groupby('park_name')['observations'].idxmax() \n",
    "# select the rows with the maximum observations\n",
    "mostObservedSpeciesByPark = observations.loc[idx, ['park_name', 'scientific_name', 'observations']]\n",
    "mostObservedSpeciesByPark"
   ]
  },
  {
   "cell_type": "code",
   "execution_count": 93,
   "metadata": {},
   "outputs": [
    {
     "data": {
      "text/html": [
       "<div>\n",
       "<style scoped>\n",
       "    .dataframe tbody tr th:only-of-type {\n",
       "        vertical-align: middle;\n",
       "    }\n",
       "\n",
       "    .dataframe tbody tr th {\n",
       "        vertical-align: top;\n",
       "    }\n",
       "\n",
       "    .dataframe thead th {\n",
       "        text-align: right;\n",
       "    }\n",
       "</style>\n",
       "<table border=\"1\" class=\"dataframe\">\n",
       "  <thead>\n",
       "    <tr style=\"text-align: right;\">\n",
       "      <th></th>\n",
       "      <th>park_name</th>\n",
       "      <th>scientific_name</th>\n",
       "      <th>observations</th>\n",
       "    </tr>\n",
       "  </thead>\n",
       "  <tbody>\n",
       "    <tr>\n",
       "      <th>9418</th>\n",
       "      <td>Bryce National Park</td>\n",
       "      <td>Corydalis aurea</td>\n",
       "      <td>9</td>\n",
       "    </tr>\n",
       "    <tr>\n",
       "      <th>15511</th>\n",
       "      <td>Great Smoky Mountains National Park</td>\n",
       "      <td>Collomia tinctoria</td>\n",
       "      <td>10</td>\n",
       "    </tr>\n",
       "    <tr>\n",
       "      <th>10848</th>\n",
       "      <td>Yellowstone National Park</td>\n",
       "      <td>Grus americana</td>\n",
       "      <td>57</td>\n",
       "    </tr>\n",
       "    <tr>\n",
       "      <th>16618</th>\n",
       "      <td>Yosemite National Park</td>\n",
       "      <td>Noturus baileyi</td>\n",
       "      <td>31</td>\n",
       "    </tr>\n",
       "  </tbody>\n",
       "</table>\n",
       "</div>"
      ],
      "text/plain": [
       "                                 park_name     scientific_name  observations\n",
       "9418                   Bryce National Park     Corydalis aurea             9\n",
       "15511  Great Smoky Mountains National Park  Collomia tinctoria            10\n",
       "10848            Yellowstone National Park      Grus americana            57\n",
       "16618               Yosemite National Park     Noturus baileyi            31"
      ]
     },
     "execution_count": 93,
     "metadata": {},
     "output_type": "execute_result"
    }
   ],
   "source": [
    "# least observed species\n",
    "# find the index of the min observations for each park\n",
    "idx = observations.groupby('park_name')['observations'].idxmin() \n",
    "# select the rows with the minimum observations\n",
    "leastObservedSpeciesByPark = observations.loc[idx, ['park_name', 'scientific_name', 'observations']]\n",
    "leastObservedSpeciesByPark"
   ]
  },
  {
   "cell_type": "markdown",
   "metadata": {},
   "source": [
    "### Insights from observations data\n",
    "\n",
    "The observations dataset contains records of species observed in 4 national parks: Great Smoky Mountains, Bryce, Yosemite, Yellowstone.\n",
    "\n",
    "The Yellowstone National Park has the highest number of observations, with a total of 1,443,562. The most observed species is Lycopodium tristachyum with 321 observations. The least observed species is Grus americana with 59 observations.\n",
    "\n",
    "The Great Smoky Mountains National Park has the last number of observations. The total number of observations is 431,820. The Sonchus asper ssp. asper is the most observed species with 147 observations, while the least observed species is Collomia tinctoria with only 10 observations."
   ]
  },
  {
   "cell_type": "markdown",
   "metadata": {},
   "source": [
    "### Merging datasets"
   ]
  },
  {
   "cell_type": "code",
   "execution_count": 94,
   "metadata": {},
   "outputs": [
    {
     "name": "stdout",
     "output_type": "stream",
     "text": [
      "The shape of the merged dataset is - (25632, 6)\n",
      "\n",
      "<class 'pandas.core.frame.DataFrame'>\n",
      "RangeIndex: 25632 entries, 0 to 25631\n",
      "Data columns (total 6 columns):\n",
      " #   Column               Non-Null Count  Dtype \n",
      "---  ------               --------------  ----- \n",
      " 0   scientific_name      25632 non-null  object\n",
      " 1   park_name            25632 non-null  object\n",
      " 2   observations         25632 non-null  int64 \n",
      " 3   category             25632 non-null  object\n",
      " 4   common_names         25632 non-null  object\n",
      " 5   conservation_status  880 non-null    object\n",
      "dtypes: int64(1), object(5)\n",
      "memory usage: 1.2+ MB\n",
      "None\n"
     ]
    }
   ],
   "source": [
    "# merging datasets\n",
    "df = pd.merge(observations,\n",
    "              species,\n",
    "              left_on='scientific_name', \n",
    "              right_on='scientific_name',\n",
    "              how='left')\n",
    "\n",
    "print(f\"The shape of the merged dataset is - {df.shape}\")\n",
    "print()\n",
    "print(df.info())"
   ]
  },
  {
   "cell_type": "code",
   "execution_count": 95,
   "metadata": {},
   "outputs": [
    {
     "data": {
      "text/html": [
       "<div>\n",
       "<style scoped>\n",
       "    .dataframe tbody tr th:only-of-type {\n",
       "        vertical-align: middle;\n",
       "    }\n",
       "\n",
       "    .dataframe tbody tr th {\n",
       "        vertical-align: top;\n",
       "    }\n",
       "\n",
       "    .dataframe thead th {\n",
       "        text-align: right;\n",
       "    }\n",
       "</style>\n",
       "<table border=\"1\" class=\"dataframe\">\n",
       "  <thead>\n",
       "    <tr style=\"text-align: right;\">\n",
       "      <th></th>\n",
       "      <th>scientific_name</th>\n",
       "      <th>park_name</th>\n",
       "      <th>observations</th>\n",
       "      <th>category</th>\n",
       "      <th>common_names</th>\n",
       "      <th>conservation_status</th>\n",
       "    </tr>\n",
       "  </thead>\n",
       "  <tbody>\n",
       "    <tr>\n",
       "      <th>0</th>\n",
       "      <td>Vicia benghalensis</td>\n",
       "      <td>Great Smoky Mountains National Park</td>\n",
       "      <td>68</td>\n",
       "      <td>Vascular Plant</td>\n",
       "      <td>Purple Vetch, Reddish Tufted Vetch</td>\n",
       "      <td>NaN</td>\n",
       "    </tr>\n",
       "    <tr>\n",
       "      <th>1</th>\n",
       "      <td>Neovison vison</td>\n",
       "      <td>Great Smoky Mountains National Park</td>\n",
       "      <td>77</td>\n",
       "      <td>Mammal</td>\n",
       "      <td>American Mink</td>\n",
       "      <td>NaN</td>\n",
       "    </tr>\n",
       "    <tr>\n",
       "      <th>2</th>\n",
       "      <td>Prunus subcordata</td>\n",
       "      <td>Yosemite National Park</td>\n",
       "      <td>138</td>\n",
       "      <td>Vascular Plant</td>\n",
       "      <td>Klamath Plum</td>\n",
       "      <td>NaN</td>\n",
       "    </tr>\n",
       "    <tr>\n",
       "      <th>3</th>\n",
       "      <td>Abutilon theophrasti</td>\n",
       "      <td>Bryce National Park</td>\n",
       "      <td>84</td>\n",
       "      <td>Vascular Plant</td>\n",
       "      <td>Velvetleaf</td>\n",
       "      <td>NaN</td>\n",
       "    </tr>\n",
       "    <tr>\n",
       "      <th>4</th>\n",
       "      <td>Githopsis specularioides</td>\n",
       "      <td>Great Smoky Mountains National Park</td>\n",
       "      <td>85</td>\n",
       "      <td>Vascular Plant</td>\n",
       "      <td>Common Bluecup</td>\n",
       "      <td>NaN</td>\n",
       "    </tr>\n",
       "  </tbody>\n",
       "</table>\n",
       "</div>"
      ],
      "text/plain": [
       "            scientific_name                            park_name  \\\n",
       "0        Vicia benghalensis  Great Smoky Mountains National Park   \n",
       "1            Neovison vison  Great Smoky Mountains National Park   \n",
       "2         Prunus subcordata               Yosemite National Park   \n",
       "3      Abutilon theophrasti                  Bryce National Park   \n",
       "4  Githopsis specularioides  Great Smoky Mountains National Park   \n",
       "\n",
       "   observations        category                        common_names  \\\n",
       "0            68  Vascular Plant  Purple Vetch, Reddish Tufted Vetch   \n",
       "1            77          Mammal                       American Mink   \n",
       "2           138  Vascular Plant                        Klamath Plum   \n",
       "3            84  Vascular Plant                          Velvetleaf   \n",
       "4            85  Vascular Plant                      Common Bluecup   \n",
       "\n",
       "  conservation_status  \n",
       "0                 NaN  \n",
       "1                 NaN  \n",
       "2                 NaN  \n",
       "3                 NaN  \n",
       "4                 NaN  "
      ]
     },
     "execution_count": 95,
     "metadata": {},
     "output_type": "execute_result"
    }
   ],
   "source": [
    "df.head()"
   ]
  },
  {
   "cell_type": "code",
   "execution_count": 96,
   "metadata": {},
   "outputs": [
    {
     "data": {
      "text/html": [
       "<div>\n",
       "<style scoped>\n",
       "    .dataframe tbody tr th:only-of-type {\n",
       "        vertical-align: middle;\n",
       "    }\n",
       "\n",
       "    .dataframe tbody tr th {\n",
       "        vertical-align: top;\n",
       "    }\n",
       "\n",
       "    .dataframe thead th {\n",
       "        text-align: right;\n",
       "    }\n",
       "</style>\n",
       "<table border=\"1\" class=\"dataframe\">\n",
       "  <thead>\n",
       "    <tr style=\"text-align: right;\">\n",
       "      <th></th>\n",
       "      <th>scientific_name</th>\n",
       "      <th>park_name</th>\n",
       "      <th>observations</th>\n",
       "    </tr>\n",
       "  </thead>\n",
       "  <tbody>\n",
       "    <tr>\n",
       "      <th>10368</th>\n",
       "      <td>Corydalis aurea</td>\n",
       "      <td>Bryce National Park</td>\n",
       "      <td>9</td>\n",
       "    </tr>\n",
       "    <tr>\n",
       "      <th>17093</th>\n",
       "      <td>Collomia tinctoria</td>\n",
       "      <td>Great Smoky Mountains National Park</td>\n",
       "      <td>10</td>\n",
       "    </tr>\n",
       "    <tr>\n",
       "      <th>17681</th>\n",
       "      <td>Strix occidentalis</td>\n",
       "      <td>Great Smoky Mountains National Park</td>\n",
       "      <td>11</td>\n",
       "    </tr>\n",
       "    <tr>\n",
       "      <th>20710</th>\n",
       "      <td>Rana sierrae</td>\n",
       "      <td>Great Smoky Mountains National Park</td>\n",
       "      <td>11</td>\n",
       "    </tr>\n",
       "  </tbody>\n",
       "</table>\n",
       "</div>"
      ],
      "text/plain": [
       "          scientific_name                            park_name  observations\n",
       "10368     Corydalis aurea                  Bryce National Park             9\n",
       "17093  Collomia tinctoria  Great Smoky Mountains National Park            10\n",
       "17681  Strix occidentalis  Great Smoky Mountains National Park            11\n",
       "20710        Rana sierrae  Great Smoky Mountains National Park            11"
      ]
     },
     "execution_count": 96,
     "metadata": {},
     "output_type": "execute_result"
    }
   ],
   "source": [
    "# filling null values in the 'observations' column with 0\n",
    "df['observations'] = df['observations'].fillna(0)\n",
    "# filtering by count observations\n",
    "filtObservations = df['observations'] < 12\n",
    "df.loc[filtObservations, ('scientific_name', 'park_name', 'observations')]"
   ]
  }
 ],
 "metadata": {
  "kernelspec": {
   "display_name": "base",
   "language": "python",
   "name": "python3"
  },
  "language_info": {
   "codemirror_mode": {
    "name": "ipython",
    "version": 3
   },
   "file_extension": ".py",
   "mimetype": "text/x-python",
   "name": "python",
   "nbconvert_exporter": "python",
   "pygments_lexer": "ipython3",
   "version": "3.11.11"
  }
 },
 "nbformat": 4,
 "nbformat_minor": 4
}
